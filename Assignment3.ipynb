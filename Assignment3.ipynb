{
  "nbformat": 4,
  "nbformat_minor": 0,
  "metadata": {
    "colab": {
      "provenance": [],
      "authorship_tag": "ABX9TyN9n/sQwzVU8RckpAjKyLFt",
      "include_colab_link": true
    },
    "kernelspec": {
      "name": "python3",
      "display_name": "Python 3"
    },
    "language_info": {
      "name": "python"
    }
  },
  "cells": [
    {
      "cell_type": "markdown",
      "metadata": {
        "id": "view-in-github",
        "colab_type": "text"
      },
      "source": [
        "<a href=\"https://colab.research.google.com/github/arose030/CSC221_arose030/blob/main/Assignment3.ipynb\" target=\"_parent\"><img src=\"https://colab.research.google.com/assets/colab-badge.svg\" alt=\"Open In Colab\"/></a>"
      ]
    },
    {
      "cell_type": "code",
      "execution_count": null,
      "metadata": {
        "id": "R9TaRp2gAWwM",
        "colab": {
          "base_uri": "https://localhost:8080/"
        },
        "outputId": "9a416c50-cacc-4345-87da-86e1d002db29"
      },
      "outputs": [
        {
          "output_type": "stream",
          "name": "stdout",
          "text": [
            "My favorite color is Pink.\n"
          ]
        }
      ],
      "source": [
        "# TIY 2-1\n",
        "msg = \"My favorite color is Pink.\"\n",
        "print(msg)\n"
      ]
    },
    {
      "cell_type": "code",
      "source": [
        "# TIY 2-2\n",
        "msg = \"My favorite color is Pink.\"\n",
        "print(msg)\n",
        "msg = \"My second favorite color is Purple.\"\n",
        "print(msg)"
      ],
      "metadata": {
        "colab": {
          "base_uri": "https://localhost:8080/"
        },
        "id": "_zBalh2F4MDT",
        "outputId": "d54423cb-ca4f-4609-bd27-b4ca10dea778"
      },
      "execution_count": null,
      "outputs": [
        {
          "output_type": "stream",
          "name": "stdout",
          "text": [
            "My favorite color is Pink.\n",
            "My second favorite color is Purple.\n"
          ]
        }
      ]
    },
    {
      "cell_type": "code",
      "source": [
        "# TIY 2-3\n",
        "name = \"alyssa\"\n",
        "msg = f\"Hello {name.title()}, Lets go to starbucks\"\n",
        "print(msg)"
      ],
      "metadata": {
        "colab": {
          "base_uri": "https://localhost:8080/"
        },
        "id": "Q16qZJM24oDP",
        "outputId": "f97f9c76-886a-4e62-918c-be95a9b75b53"
      },
      "execution_count": null,
      "outputs": [
        {
          "output_type": "stream",
          "name": "stdout",
          "text": [
            "Hello Alyssa, Lets go to starbucks\n"
          ]
        }
      ]
    },
    {
      "cell_type": "code",
      "source": [
        "# TIY 2-4\n",
        "name = \"Alyssa\"\n",
        "print(name.lower())\n",
        "print(name.upper())\n",
        "print(name.title())"
      ],
      "metadata": {
        "colab": {
          "base_uri": "https://localhost:8080/"
        },
        "id": "0FC8YsVz5Oub",
        "outputId": "620f27d9-6030-4f20-85d7-3c2ee42a4a89"
      },
      "execution_count": null,
      "outputs": [
        {
          "output_type": "stream",
          "name": "stdout",
          "text": [
            "alyssa\n",
            "ALYSSA\n",
            "Alyssa\n"
          ]
        }
      ]
    },
    {
      "cell_type": "code",
      "source": [
        "# TIY 2-5\n",
        "print(\"Neil Armstrong once said, 'Thats one small step for man, one giant leap for mankind.\")"
      ],
      "metadata": {
        "colab": {
          "base_uri": "https://localhost:8080/"
        },
        "id": "hkuE4qN85qET",
        "outputId": "c23c57c5-608f-41e7-d7c7-5d21d9c1696c"
      },
      "execution_count": null,
      "outputs": [
        {
          "output_type": "stream",
          "name": "stdout",
          "text": [
            "Neil Armstrong once said, 'Thats one small step for man, one giant leap for mankind.\n"
          ]
        }
      ]
    },
    {
      "cell_type": "code",
      "source": [
        "# TIY 2-6\n",
        "famous_person = \"Neil Armstrong\"\n",
        "message = f'{famous_person} once said, \"Thats one small step for man, one giant leap for mankind.\"'\n",
        "print(message)\n"
      ],
      "metadata": {
        "id": "YfP_DkCU6MQJ",
        "colab": {
          "base_uri": "https://localhost:8080/"
        },
        "outputId": "de5f26a9-fcb4-412b-8145-b21777b9421b"
      },
      "execution_count": null,
      "outputs": [
        {
          "output_type": "stream",
          "name": "stdout",
          "text": [
            "Neil Armstrong once said, \"Thats one small step for man, one giant leap for mankind.\"\n"
          ]
        }
      ]
    },
    {
      "cell_type": "code",
      "source": [
        "# TIY 2-7\n",
        "name = \"\\Alyssa Rose\\n\"\n",
        "print(\"Unmodified:\")\n",
        "print(name)\n",
        "print(\"\\nUsing lstrip():\")\n",
        "print(name.lstrip())\n",
        "print(\"\\nUsing rstrip():\")\n",
        "print(name.rstrip())\n",
        "print(\"\\nUsing strip():\")\n",
        "print(name.strip())"
      ],
      "metadata": {
        "colab": {
          "base_uri": "https://localhost:8080/"
        },
        "id": "JLI3zQf9-Rw6",
        "outputId": "bb6c635c-2ad4-42c0-f76c-3a4df0532753"
      },
      "execution_count": null,
      "outputs": [
        {
          "output_type": "stream",
          "name": "stdout",
          "text": [
            "Unmodified:\n",
            "\\Alyssa Rose\n",
            "\n",
            "\n",
            "Using lstrip():\n",
            "\\Alyssa Rose\n",
            "\n",
            "\n",
            "Using rstrip():\n",
            "\\Alyssa Rose\n",
            "\n",
            "Using strip():\n",
            "\\Alyssa Rose\n"
          ]
        }
      ]
    },
    {
      "cell_type": "code",
      "source": [
        "# TIY 2-8\n",
        "print(5+3)\n",
        "print(13-5)\n",
        "print(4*2)\n",
        "print(16/2)\n",
        "# (TIY 2-10 enter comments)"
      ],
      "metadata": {
        "colab": {
          "base_uri": "https://localhost:8080/"
        },
        "id": "8cUUJPz5A-xG",
        "outputId": "aacd6924-62c3-4467-ac9a-c0963e170be4"
      },
      "execution_count": null,
      "outputs": [
        {
          "output_type": "stream",
          "name": "stdout",
          "text": [
            "8\n",
            "8\n",
            "8\n",
            "8.0\n"
          ]
        }
      ]
    },
    {
      "cell_type": "code",
      "source": [
        "# TIY 2-9\n",
        "fav_num = 42\n",
        "msg = f\"My favorite number is {fav_num}.\"\n",
        "print(msg)"
      ],
      "metadata": {
        "colab": {
          "base_uri": "https://localhost:8080/"
        },
        "id": "Q92t8b3hBoBZ",
        "outputId": "3ebc2f2f-5a26-4fc5-c346-577c4ade1b0b"
      },
      "execution_count": null,
      "outputs": [
        {
          "output_type": "stream",
          "name": "stdout",
          "text": [
            "My favorite number is 42.\n"
          ]
        }
      ]
    },
    {
      "cell_type": "code",
      "source": [
        "import this\n",
        "# (TIY 2-10 enter comments)\n"
      ],
      "metadata": {
        "colab": {
          "base_uri": "https://localhost:8080/"
        },
        "id": "hG65NNnZCH2s",
        "outputId": "20ce6a43-2f66-4125-cb78-fd3d2ea6cd6e"
      },
      "execution_count": null,
      "outputs": [
        {
          "output_type": "stream",
          "name": "stdout",
          "text": [
            "The Zen of Python, by Tim Peters\n",
            "\n",
            "Beautiful is better than ugly.\n",
            "Explicit is better than implicit.\n",
            "Simple is better than complex.\n",
            "Complex is better than complicated.\n",
            "Flat is better than nested.\n",
            "Sparse is better than dense.\n",
            "Readability counts.\n",
            "Special cases aren't special enough to break the rules.\n",
            "Although practicality beats purity.\n",
            "Errors should never pass silently.\n",
            "Unless explicitly silenced.\n",
            "In the face of ambiguity, refuse the temptation to guess.\n",
            "There should be one-- and preferably only one --obvious way to do it.\n",
            "Although that way may not be obvious at first unless you're Dutch.\n",
            "Now is better than never.\n",
            "Although never is often better than *right* now.\n",
            "If the implementation is hard to explain, it's a bad idea.\n",
            "If the implementation is easy to explain, it may be a good idea.\n",
            "Namespaces are one honking great idea -- let's do more of those!\n"
          ]
        }
      ]
    }
  ]
}
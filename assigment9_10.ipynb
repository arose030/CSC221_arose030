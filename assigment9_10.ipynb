{
  "nbformat": 4,
  "nbformat_minor": 0,
  "metadata": {
    "colab": {
      "provenance": [],
      "authorship_tag": "ABX9TyMKDHIAGzqJpkQEC0un3BXp",
      "include_colab_link": true
    },
    "kernelspec": {
      "name": "python3",
      "display_name": "Python 3"
    },
    "language_info": {
      "name": "python"
    }
  },
  "cells": [
    {
      "cell_type": "markdown",
      "metadata": {
        "id": "view-in-github",
        "colab_type": "text"
      },
      "source": [
        "<a href=\"https://colab.research.google.com/github/arose030/CSC221_arose030/blob/main/assigment9_10.ipynb\" target=\"_parent\"><img src=\"https://colab.research.google.com/assets/colab-badge.svg\" alt=\"Open In Colab\"/></a>"
      ]
    },
    {
      "cell_type": "markdown",
      "source": [
        "1) This function, count_words, takes a string of text as input and counts the number of words in the text."
      ],
      "metadata": {
        "id": "pd4OJUJJ82IW"
      }
    },
    {
      "cell_type": "code",
      "execution_count": 3,
      "metadata": {
        "id": "zHA-wY6x7zDE"
      },
      "outputs": [],
      "source": [
        "def count_words(text):\n",
        "    \"\"\"\n",
        "    Count the number of words in the given text.\n",
        "\n",
        "    Parameters:\n",
        "    - text (str): The input text.\n",
        "\n",
        "    Returns:\n",
        "    - int: The number of words in the text.\n",
        "    \"\"\"\n",
        "    words = text.split()\n",
        "    return len(words)\n"
      ]
    },
    {
      "cell_type": "code",
      "source": [
        "# Test cases\n",
        "print(count_words(\"Hello, World!\"))  # Expected output: 2\n",
        "print(count_words(\"Python is awesome\"))  # Expected output: 3"
      ],
      "metadata": {
        "colab": {
          "base_uri": "https://localhost:8080/"
        },
        "id": "4YlJbiK097dz",
        "outputId": "a1524e45-4c6d-445d-a2d7-bfabf9788d70"
      },
      "execution_count": 10,
      "outputs": [
        {
          "output_type": "stream",
          "name": "stdout",
          "text": [
            "2\n",
            "3\n"
          ]
        }
      ]
    },
    {
      "cell_type": "markdown",
      "source": [
        "2) This function takes a text input and converts it to uppercase."
      ],
      "metadata": {
        "id": "G85UNpBb_-cn"
      }
    },
    {
      "cell_type": "code",
      "source": [
        "def text_to_uppercase(text):\n",
        "    \"\"\"\n",
        "    Convert the given text to uppercase.\n",
        "\n",
        "    Parameters:\n",
        "    - text (str): The input text.\n",
        "\n",
        "    Returns:\n",
        "    - str: The input text converted to uppercase.\n",
        "    \"\"\"\n",
        "    return text.upper()"
      ],
      "metadata": {
        "id": "J4r1ErVJAUC8"
      },
      "execution_count": 14,
      "outputs": []
    },
    {
      "cell_type": "code",
      "source": [
        "# Test cases for text_to_uppercase function\n",
        "# Test case 1: Uppercase conversion of lowercase text\n",
        "result_1 = text_to_uppercase(\"hello\")\n",
        "expected_result_1 = \"HELLO\"\n",
        "if result_1 == expected_result_1:\n",
        "    print(\"Test case 1 passed\")\n",
        "else:\n",
        "    print(\"Test case 1 failed\")\n",
        "\n",
        "# Test case 2: Uppercase conversion of mixed case text\n",
        "result_2 = text_to_uppercase(\"PyThOn\")\n",
        "expected_result_2 = \"PYTHON\"\n",
        "if result_2 == expected_result_2:\n",
        "    print(\"Test case 2 passed\")\n",
        "else:\n",
        "    print(\"Test case 2 failed\")\n",
        "\n",
        "# Test case 3: Uppercase conversion of empty text\n",
        "result_3 = text_to_uppercase(\"\")\n",
        "expected_result_3 = \"\"\n",
        "if result_3 == expected_result_3:\n",
        "    print(\"Test case 3 passed\")\n",
        "else:\n",
        "    print(\"Test case 3 failed\")"
      ],
      "metadata": {
        "colab": {
          "base_uri": "https://localhost:8080/"
        },
        "id": "VRZZsIGgAXGJ",
        "outputId": "77a115e0-54d8-411e-8b8f-946de23230f2"
      },
      "execution_count": 15,
      "outputs": [
        {
          "output_type": "stream",
          "name": "stdout",
          "text": [
            "Test case 1 passed\n",
            "Test case 2 passed\n",
            "Test case 3 passed\n"
          ]
        }
      ]
    },
    {
      "cell_type": "markdown",
      "source": [
        "3) This function calculates the product of a variable number of arguments."
      ],
      "metadata": {
        "id": "TJw4KEAWEiR2"
      }
    },
    {
      "cell_type": "code",
      "source": [
        "def calculate_sum(*args):\n",
        "    \"\"\"\n",
        "    Calculate the sum of a variable number of integers.\n",
        "\n",
        "    Parameters:\n",
        "    - *args (int): Variable number of integers.\n",
        "\n",
        "    Returns:\n",
        "    - int: The sum of the integers.\n",
        "    \"\"\"\n",
        "    return sum(args)\n"
      ],
      "metadata": {
        "id": "pzFOs56sEjEP"
      },
      "execution_count": 23,
      "outputs": []
    },
    {
      "cell_type": "code",
      "source": [
        "# Test cases for calculate_sum function\n",
        "\n",
        "# Test case 1: Sum of positive integers\n",
        "assert calculate_sum(1, 2, 3, 4, 5) == 15\n",
        "\n",
        "# Test case 2: Sum of negative integers\n",
        "assert calculate_sum(-1, -2, -3, -4, -5) == -15\n",
        "\n",
        "# Test case 3: Sum of positive and negative integers\n",
        "assert calculate_sum(-10, 5, -3, 8, 2) == 2\n",
        "\n",
        "# Test case 4: Sum of one element\n",
        "assert calculate_sum(10) == 10\n",
        "\n",
        "print(\"All test cases passed!\")\n"
      ],
      "metadata": {
        "colab": {
          "base_uri": "https://localhost:8080/"
        },
        "id": "cglJgfsEEnBT",
        "outputId": "c28fd62a-cc36-4e28-8fe5-6087125d0f67"
      },
      "execution_count": 24,
      "outputs": [
        {
          "output_type": "stream",
          "name": "stdout",
          "text": [
            "All test cases passed!\n"
          ]
        }
      ]
    },
    {
      "cell_type": "markdown",
      "source": [
        "4) This function takes two numbers as input and returns both their sum and their product."
      ],
      "metadata": {
        "id": "0oVNVvidGzQL"
      }
    },
    {
      "cell_type": "code",
      "source": [
        "def sum_and_product(a, b):\n",
        "    \"\"\"\n",
        "    Calculate the sum and product of two numbers.\n",
        "\n",
        "    Parameters:\n",
        "    - a (float): The first number.\n",
        "    - b (float): The second number.\n",
        "\n",
        "    Returns:\n",
        "    - tuple: A tuple containing the sum and product of the numbers.\n",
        "    \"\"\"\n",
        "    return a + b, a * b\n"
      ],
      "metadata": {
        "id": "1havdghRG10g"
      },
      "execution_count": 25,
      "outputs": []
    },
    {
      "cell_type": "code",
      "source": [
        "# Test cases for sum_and_product function\n",
        "\n",
        "# Test case 1: Sum and product of positive integers\n",
        "assert sum_and_product(3, 5) == (8, 15)\n",
        "\n",
        "# Test case 2: Sum and product of positive and negative integers\n",
        "assert sum_and_product(-2, 4) == (2, -8)\n",
        "\n",
        "# Test case 3: Sum and product of floating-point numbers\n",
        "assert sum_and_product(2.5, 3.5) == (6.0, 8.75)\n",
        "\n",
        "print(\"All test cases passed!\")"
      ],
      "metadata": {
        "colab": {
          "base_uri": "https://localhost:8080/"
        },
        "id": "JXqBemDJG68P",
        "outputId": "8f41b1b4-a21e-41d7-ad64-bc8c5a20134b"
      },
      "execution_count": 26,
      "outputs": [
        {
          "output_type": "stream",
          "name": "stdout",
          "text": [
            "All test cases passed!\n"
          ]
        }
      ]
    },
    {
      "cell_type": "markdown",
      "source": [
        "5) This function sorts a list of numbers in ascending order."
      ],
      "metadata": {
        "id": "pH5Cd4nwHbqH"
      }
    },
    {
      "cell_type": "code",
      "source": [
        "def sort_numbers(numbers):\n",
        "    \"\"\"\n",
        "    Sort a list of numbers in ascending order.\n",
        "\n",
        "    Parameters:\n",
        "    - numbers (list): The list of numbers to be sorted.\n",
        "\n",
        "    Returns:\n",
        "    - list: The sorted list of numbers.\n",
        "    \"\"\"\n",
        "    return sorted(numbers)\n"
      ],
      "metadata": {
        "id": "G_qtSFkHHtwn"
      },
      "execution_count": 27,
      "outputs": []
    },
    {
      "cell_type": "code",
      "source": [
        "# Test cases for sort_numbers function\n",
        "\n",
        "# Test case 1: Sorting a list of positive integers\n",
        "assert sort_numbers([5, 2, 8, 1, 6]) == [1, 2, 5, 6, 8]\n",
        "\n",
        "# Test case 2: Sorting a list of negative integers\n",
        "assert sort_numbers([-3, -1, -5, -2, -4]) == [-5, -4, -3, -2, -1]\n",
        "\n",
        "# Test case 3: Sorting a list of floating-point numbers\n",
        "assert sort_numbers([2.5, 1.3, 3.8, 1.0, 2.0]) == [1.0, 1.3, 2.0, 2.5, 3.8]\n",
        "\n",
        "print(\"All test cases passed!\")\n"
      ],
      "metadata": {
        "colab": {
          "base_uri": "https://localhost:8080/"
        },
        "id": "c9Lf3T8SH1J4",
        "outputId": "2134f226-d4fe-4a19-b8b9-a221c23dee7a"
      },
      "execution_count": 28,
      "outputs": [
        {
          "output_type": "stream",
          "name": "stdout",
          "text": [
            "All test cases passed!\n"
          ]
        }
      ]
    },
    {
      "cell_type": "markdown",
      "source": [
        "6) This function takes a text input and counts the frequency of each word, returning a dictionary with words as keys and their frequencies as values."
      ],
      "metadata": {
        "id": "xkMwZCwuIbKb"
      }
    },
    {
      "cell_type": "code",
      "source": [
        "def count_word_frequencies(text):\n",
        "    \"\"\"\n",
        "    Count the frequency of each word in the given text.\n",
        "\n",
        "    Parameters:\n",
        "    - text (str): The input text.\n",
        "\n",
        "    Returns:\n",
        "    - dict: A dictionary where keys are words and values are their frequencies.\n",
        "    \"\"\"\n",
        "    word_freq = {}\n",
        "    words = text.split()\n",
        "    for word in words:\n",
        "        if word in word_freq:\n",
        "            word_freq[word] += 1\n",
        "        else:\n",
        "            word_freq[word] = 1\n",
        "    return word_freq\n"
      ],
      "metadata": {
        "id": "uuTwhPkZIcin"
      },
      "execution_count": 29,
      "outputs": []
    },
    {
      "cell_type": "code",
      "source": [
        "# Test case for count_word_frequencies function\n",
        "\n",
        "# Sample text\n",
        "text = \"the quick brown fox jumps over the lazy dog\"\n",
        "\n",
        "# Expected word frequencies\n",
        "expected_result = {\n",
        "    \"the\": 2,\n",
        "    \"quick\": 1,\n",
        "    \"brown\": 1,\n",
        "    \"fox\": 1,\n",
        "    \"jumps\": 1,\n",
        "    \"over\": 1,\n",
        "    \"lazy\": 1,\n",
        "    \"dog\": 1\n",
        "}\n",
        "\n",
        "# Check if the function returns the expected result\n",
        "assert count_word_frequencies(text) == expected_result\n",
        "\n",
        "print(\"Test case passed!\")\n"
      ],
      "metadata": {
        "colab": {
          "base_uri": "https://localhost:8080/"
        },
        "id": "tpzBC0Z3Ieza",
        "outputId": "c6e1d757-0108-4216-ae15-f9093274b839"
      },
      "execution_count": 30,
      "outputs": [
        {
          "output_type": "stream",
          "name": "stdout",
          "text": [
            "Test case passed!\n"
          ]
        }
      ]
    },
    {
      "cell_type": "markdown",
      "source": [
        "7) This function takes an integer target as input, which represents the number that the player needs to guess. It also takes an integer guess as input, which represents the player's guess. The function returns a hint to guide the player towards the correct answer.\n",
        "\n"
      ],
      "metadata": {
        "id": "6_-QtWPBJ7mC"
      }
    },
    {
      "cell_type": "code",
      "source": [
        "def guess_the_number(target, guess):\n",
        "    \"\"\"\n",
        "    Solve the Guess the Number game by providing hints based on the player's guess.\n",
        "\n",
        "    Parameters:\n",
        "    - target (int): The target number that the player needs to guess.\n",
        "    - guess (int): The player's guess.\n",
        "\n",
        "    Returns:\n",
        "    - str: A hint to guide the player towards the correct answer.\n",
        "    \"\"\"\n",
        "    if guess < target:\n",
        "        return \"Too low\"\n",
        "    elif guess > target:\n",
        "        return \"Too high\"\n",
        "    else:\n",
        "        return \"Correct!\"\n"
      ],
      "metadata": {
        "id": "npYbSGM0J_KF"
      },
      "execution_count": 31,
      "outputs": []
    },
    {
      "cell_type": "code",
      "source": [
        "# Test cases for guess_the_number function\n",
        "\n",
        "# Target number is 50, player's guess is 40 (too low)\n",
        "assert guess_the_number(50, 40) == \"Too low\"\n",
        "\n",
        "# Target number is 75, player's guess is 80 (too high)\n",
        "assert guess_the_number(75, 80) == \"Too high\"\n",
        "\n",
        "# Target number is 30, player's guess is 30 (correct)\n",
        "assert guess_the_number(30, 30) == \"Correct!\"\n",
        "\n",
        "print(\"All test cases passed!\")\n"
      ],
      "metadata": {
        "colab": {
          "base_uri": "https://localhost:8080/"
        },
        "id": "ox0pErecKFsy",
        "outputId": "aee68693-f661-4163-e16f-a26ff17b23c5"
      },
      "execution_count": 32,
      "outputs": [
        {
          "output_type": "stream",
          "name": "stdout",
          "text": [
            "All test cases passed!\n"
          ]
        }
      ]
    },
    {
      "cell_type": "markdown",
      "source": [
        "8) This function performs the tricky mathematical computation of calculating the factorial of a non-negative integer."
      ],
      "metadata": {
        "id": "lb-6F3vHK1O4"
      }
    },
    {
      "cell_type": "code",
      "source": [
        "def factorial(n):\n",
        "    \"\"\"\n",
        "    Calculate the factorial of a non-negative integer using an iterative approach.\n",
        "\n",
        "    Parameters:\n",
        "    - n (int): The non-negative integer.\n",
        "\n",
        "    Returns:\n",
        "    - int: The factorial of the input integer.\n",
        "    \"\"\"\n",
        "    if n < 0:\n",
        "        raise ValueError(\"Factorial is not defined for negative numbers\")\n",
        "    result = 1\n",
        "    for i in range(1, n + 1):\n",
        "        result *= i\n",
        "    return result\n"
      ],
      "metadata": {
        "id": "NjWFkrNUK4Pq"
      },
      "execution_count": 33,
      "outputs": []
    },
    {
      "cell_type": "code",
      "source": [
        "# Test cases for factorial function\n",
        "\n",
        "# Factorial of 0\n",
        "assert factorial(0) == 1\n",
        "\n",
        "# Factorial of 1\n",
        "assert factorial(1) == 1\n",
        "\n",
        "# Factorial of 5\n",
        "assert factorial(5) == 120\n",
        "\n",
        "# Factorial of 10\n",
        "assert factorial(10) == 3628800\n",
        "\n",
        "print(\"All test cases passed!\")\n"
      ],
      "metadata": {
        "colab": {
          "base_uri": "https://localhost:8080/"
        },
        "id": "gy0SUpjeLBE6",
        "outputId": "3407fe24-7536-479e-e6b4-9a8af003d8ee"
      },
      "execution_count": 34,
      "outputs": [
        {
          "output_type": "stream",
          "name": "stdout",
          "text": [
            "All test cases passed!\n"
          ]
        }
      ]
    },
    {
      "cell_type": "markdown",
      "source": [
        "9) This function checks if a given string is a palindrome, meaning it reads the same backward as forward."
      ],
      "metadata": {
        "id": "RrrfutmuLN1A"
      }
    },
    {
      "cell_type": "code",
      "source": [
        "def is_palindrome(text):\n",
        "    \"\"\"\n",
        "    Check if a given string is a palindrome.\n",
        "\n",
        "    Parameters:\n",
        "    - text (str): The input string.\n",
        "\n",
        "    Returns:\n",
        "    - bool: True if the input string is a palindrome, False otherwise.\n",
        "    \"\"\"\n",
        "    return text == text[::-1]\n"
      ],
      "metadata": {
        "id": "th2dAXcYMlRU"
      },
      "execution_count": 35,
      "outputs": []
    },
    {
      "cell_type": "code",
      "source": [
        "# Test cases for is_palindrome function\n",
        "\n",
        "# Test case 1: Palindrome string\n",
        "assert is_palindrome(\"radar\") == True\n",
        "\n",
        "# Test case 2: Non-palindrome string\n",
        "assert is_palindrome(\"hello\") == False\n",
        "\n",
        "# Test case 3: Empty string\n",
        "assert is_palindrome(\"\") == True\n",
        "\n",
        "print(\"All test cases passed!\")\n"
      ],
      "metadata": {
        "colab": {
          "base_uri": "https://localhost:8080/"
        },
        "id": "sZSYlOvIMoz9",
        "outputId": "522005ae-5786-43ad-fa33-680343eee717"
      },
      "execution_count": 39,
      "outputs": [
        {
          "output_type": "stream",
          "name": "stdout",
          "text": [
            "All test cases passed!\n"
          ]
        }
      ]
    },
    {
      "cell_type": "markdown",
      "source": [
        "10) This function generates the Fibonacci sequence up to a specified number of terms."
      ],
      "metadata": {
        "id": "QPKYmlzlNJr6"
      }
    },
    {
      "cell_type": "code",
      "source": [
        "def generate_fibonacci_sequence(n):\n",
        "    \"\"\"\n",
        "    Generate the Fibonacci sequence up to the nth term.\n",
        "\n",
        "    Parameters:\n",
        "    - n (int): The number of terms in the sequence.\n",
        "\n",
        "    Returns:\n",
        "    - list: The Fibonacci sequence as a list.\n",
        "    \"\"\"\n",
        "    fibonacci_sequence = []\n",
        "    if n >= 1:\n",
        "        fibonacci_sequence.append(0)\n",
        "    if n >= 2:\n",
        "        fibonacci_sequence.append(1)\n",
        "    while len(fibonacci_sequence) < n:\n",
        "        next_term = fibonacci_sequence[-1] + fibonacci_sequence[-2]\n",
        "        fibonacci_sequence.append(next_term)\n",
        "    return fibonacci_sequence\n"
      ],
      "metadata": {
        "id": "Wf5CGKcJNbFN"
      },
      "execution_count": 42,
      "outputs": []
    },
    {
      "cell_type": "code",
      "source": [
        "# Test cases for generate_fibonacci_sequence function\n",
        "\n",
        "# Test case 1: Fibonacci sequence with 5 terms\n",
        "assert generate_fibonacci_sequence(5) == [0, 1, 1, 2, 3]\n",
        "\n",
        "# Test case 2: Fibonacci sequence with 10 terms\n",
        "assert generate_fibonacci_sequence(10) == [0, 1, 1, 2, 3, 5, 8, 13, 21, 34]\n",
        "\n",
        "# Test case 3: Fibonacci sequence with 1 term\n",
        "assert generate_fibonacci_sequence(1) == [0]\n",
        "\n",
        "# Test case 4: Fibonacci sequence with 0 terms\n",
        "assert generate_fibonacci_sequence(0) == []\n",
        "\n",
        "print(\"All test cases passed!\")\n"
      ],
      "metadata": {
        "colab": {
          "base_uri": "https://localhost:8080/"
        },
        "id": "pFHLKOCgNkL-",
        "outputId": "ff77a09d-e0bb-4eb1-9d18-f6389a651b7d"
      },
      "execution_count": 43,
      "outputs": [
        {
          "output_type": "stream",
          "name": "stdout",
          "text": [
            "All test cases passed!\n"
          ]
        }
      ]
    },
    {
      "cell_type": "markdown",
      "source": [
        "11) This function checks if a given string is a pangram. (A sentence that contains every letter of the alphabet at least once.)"
      ],
      "metadata": {
        "id": "_cGTcJRVOQgN"
      }
    },
    {
      "cell_type": "code",
      "source": [
        "import string\n",
        "\n",
        "def is_pangram(sentence):\n",
        "    \"\"\"\n",
        "    Check if a given string is a pangram.\n",
        "\n",
        "    Parameters:\n",
        "    - sentence (str): The string to check.\n",
        "\n",
        "    Returns:\n",
        "    - bool: True if the string is a pangram, False otherwise.\n",
        "    \"\"\"\n",
        "    # Convert the sentence to lowercase and remove non-alphabetic characters\n",
        "    clean_sentence = ''.join(char.lower() for char in sentence if char.isalpha())\n",
        "\n",
        "    # Create a set of unique characters in the sentence\n",
        "    unique_chars = set(clean_sentence)\n",
        "\n",
        "    # Check if all lowercase letters are present in the set of unique characters\n",
        "    return set(string.ascii_lowercase).issubset(unique_chars)\n",
        "\n"
      ],
      "metadata": {
        "id": "3YdqT4BGOS6D"
      },
      "execution_count": 58,
      "outputs": []
    },
    {
      "cell_type": "code",
      "source": [
        "# Test cases for is_pangram function\n",
        "\n",
        "# Test case 1: Check if \"The quick brown fox jumps over the lazy dog\" is a pangram\n",
        "assert is_pangram(\"The quick brown fox jumps over the lazy dog\") == True\n",
        "\n",
        "# Test case 2: Check if \"Pack my box with five dozen liquor jugs\" is a pangram\n",
        "assert is_pangram(\"Pack my box with five dozen liquor jugs\") == True\n",
        "\n",
        "# Test case 3: Check if \"This is not a pangram\" is a pangram\n",
        "assert is_pangram(\"This is not a pangram\") == False\n",
        "\n",
        "# Test case 4: Check if \"abcdefghijklmnopqrstuvwxyz\" is a pangram\n",
        "assert is_pangram(\"abcdefghijklmnopqrstuvwxyz\") == True\n",
        "\n",
        "print(\"All test cases passed!\")\n"
      ],
      "metadata": {
        "colab": {
          "base_uri": "https://localhost:8080/"
        },
        "id": "NcIN5pUmOWyO",
        "outputId": "eb192700-28ce-4065-a250-17128fa248b9"
      },
      "execution_count": 59,
      "outputs": [
        {
          "output_type": "stream",
          "name": "stdout",
          "text": [
            "All test cases passed!\n"
          ]
        }
      ]
    }
  ]
}
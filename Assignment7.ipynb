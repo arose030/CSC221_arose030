{
  "nbformat": 4,
  "nbformat_minor": 0,
  "metadata": {
    "colab": {
      "provenance": [],
      "authorship_tag": "ABX9TyP0tyoSGnSZPK1Flhj87DOU",
      "include_colab_link": true
    },
    "kernelspec": {
      "name": "python3",
      "display_name": "Python 3"
    },
    "language_info": {
      "name": "python"
    }
  },
  "cells": [
    {
      "cell_type": "markdown",
      "metadata": {
        "id": "view-in-github",
        "colab_type": "text"
      },
      "source": [
        "<a href=\"https://colab.research.google.com/github/arose030/CSC221_arose030/blob/main/Assignment7.ipynb\" target=\"_parent\"><img src=\"https://colab.research.google.com/assets/colab-badge.svg\" alt=\"Open In Colab\"/></a>"
      ]
    },
    {
      "cell_type": "code",
      "source": [
        "#TIY 6-1\n",
        "person = {\n",
        "    'first_name': 'alyssa',\n",
        "    'last_name' : 'rose',\n",
        "    'age' : 20,\n",
        "    'city' : 'plattsburgh',\n",
        "    }\n",
        "print(person['first_name'])\n",
        "print(person['last_name'])\n",
        "print(person['age'])\n",
        "print(person['city'])\n",
        "\n"
      ],
      "metadata": {
        "colab": {
          "base_uri": "https://localhost:8080/"
        },
        "id": "4mjBxZv6b6_w",
        "outputId": "9386f553-ee12-47fc-ae07-5ee2b98884ce"
      },
      "execution_count": null,
      "outputs": [
        {
          "output_type": "stream",
          "name": "stdout",
          "text": [
            "alyssa\n",
            "rose\n",
            "20\n",
            "plattsburgh\n"
          ]
        }
      ]
    },
    {
      "cell_type": "code",
      "source": [
        "#TIY 6-2\n",
        "favorite_numbers = {\n",
        "    'kyle' : 4,\n",
        "    'lilly' : 12,\n",
        "    'sue' : 31,\n",
        "    'karley' : 81,\n",
        "    'joe' : 70,\n",
        "    }\n",
        "num = favorite_numbers['kyle']\n",
        "print(f\"Kyles favorite number is {num}.\")\n",
        "\n",
        "num = favorite_numbers['lilly']\n",
        "print(f\"lilly's favorite number is {num}.\")\n",
        "\n",
        "num = favorite_numbers['sue']\n",
        "print(f\"sue's favorite number is {num}.\")\n",
        "\n",
        "num = favorite_numbers['karley']\n",
        "print(f\"karley's favorite number is {num}.\")\n",
        "\n",
        "num = favorite_numbers['joe']\n",
        "print(f\"joe's favorite number is {num}.\")\n",
        "\n",
        "\n"
      ],
      "metadata": {
        "colab": {
          "base_uri": "https://localhost:8080/"
        },
        "id": "ehU6bYVxdKWm",
        "outputId": "c8fa2c39-ee1b-4598-b1c9-303ef7adc5f4"
      },
      "execution_count": null,
      "outputs": [
        {
          "output_type": "stream",
          "name": "stdout",
          "text": [
            "Kyles favorite number is 4.\n",
            "lilly's favorite number is 12.\n",
            "sue's favorite number is 31.\n",
            "karley's favorite number is 81.\n",
            "joe's favorite number is 70.\n"
          ]
        }
      ]
    },
    {
      "cell_type": "code",
      "source": [
        "#TIY 6-3\n",
        "glossary = {\n",
        "    'dictionary' : \"A collection of key value pairs\",\n",
        "    'list' : \"A collection of items in a certain order\",\n",
        "    'loop' : \"Works through a collection of items, one at a time\",\n",
        "    'comment': 'A note in a program that the Python interpreter ignores',\n",
        "    'string': 'A series of characters',\n",
        "    }\n",
        "word = 'dictionary'\n",
        "print(f\"\\n{word.title()}: {glossary[word]}\")\n",
        "\n",
        "word = 'list'\n",
        "print(f\"\\n{word.title()}: {glossary[word]}\")\n",
        "\n",
        "word = 'loop'\n",
        "print(f\"\\n{word.title()}: {glossary[word]}\")\n",
        "\n",
        "word = 'comment'\n",
        "print(f\"\\n{word.title()}: {glossary[word]}\")\n",
        "\n",
        "word = 'string'\n",
        "print(f\"\\n{word.title()}: {glossary[word]}\")\n",
        "\n"
      ],
      "metadata": {
        "colab": {
          "base_uri": "https://localhost:8080/"
        },
        "id": "7zhPNabpexB2",
        "outputId": "9e71dbca-6209-42c7-c53f-e009eee51f6f"
      },
      "execution_count": null,
      "outputs": [
        {
          "output_type": "stream",
          "name": "stdout",
          "text": [
            "\n",
            "Dictionary: A collection of key value pairs\n",
            "\n",
            "List: A collection of items in a certain order\n",
            "\n",
            "Loop: Works through a collection of items, one at a time\n",
            "\n",
            "Comment: A note in a program that the Python interpreter ignores\n",
            "\n",
            "String: A series of characters\n"
          ]
        }
      ]
    },
    {
      "cell_type": "code",
      "source": [
        "#TIY 6-4\n",
        "glossary = {\n",
        "    'dictionary' : \"A collection of key value pairs\",\n",
        "    'list' : \"A collection of items in a certain order\",\n",
        "    'loop' : \"Works through a collection of items, one at a time\",\n",
        "    'comment': 'A note in a program that the Python interpreter ignores',\n",
        "    'string': 'A series of characters',\n",
        "    'argument' : 'A value passed to a function (or method) when calling the function.',\n",
        "    'variable' : 'a way of storing values into the memory of the computer by using specific names that you define.',\n",
        "    'print' : 'A function that displays the output of a program.',\n",
        "    'range' : 'Function that returns a list of intergers, the sequence of which is defined by the arguments passed to it.',\n",
        "    'sets' : 'Collections of unique but unordered items.',\n",
        "    }\n",
        "for word, definition in glossary.items():\n",
        "  print(f\"\\n{word.title()}: {definition}\")\n",
        "\n",
        "\n"
      ],
      "metadata": {
        "colab": {
          "base_uri": "https://localhost:8080/"
        },
        "id": "1Xd-7sYAg6KL",
        "outputId": "b4fbcd0e-7c12-47fd-82d3-53ca620f7d86"
      },
      "execution_count": null,
      "outputs": [
        {
          "output_type": "stream",
          "name": "stdout",
          "text": [
            "\n",
            "Dictionary: A collection of key value pairs\n",
            "\n",
            "List: A collection of items in a certain order\n",
            "\n",
            "Loop: Works through a collection of items, one at a time\n",
            "\n",
            "Comment: A note in a program that the Python interpreter ignores\n",
            "\n",
            "String: A series of characters\n",
            "\n",
            "Argument: A value passed to a function (or method) when calling the function.\n",
            "\n",
            "Variable: a way of storing values into the memory of the computer by using specific names that you define.\n",
            "\n",
            "Print: A function that displays the output of a program.\n",
            "\n",
            "Range: Function that returns a list of intergers, the sequence of which is defined by the arguments passed to it.\n",
            "\n",
            "Sets: Collections of unique but unordered items.\n"
          ]
        }
      ]
    },
    {
      "cell_type": "code",
      "source": [
        "#TIY 6-11\n",
        "cities = {\n",
        "    'Lindenhurst': {\n",
        "        'country': 'united states',\n",
        "        'population': 27000,\n",
        "        'fact': 'Lindenhurst is home of the bulldogs.',\n",
        "        },\n",
        "     'Plattsburgh': {\n",
        "        'country': 'united states',\n",
        "        'population': 19900,\n",
        "        'fact': 'Plattsburgh is located on Lake Champlain.',\n",
        "     },\n",
        "     'Westchester': {\n",
        "        'country': 'united states',\n",
        "        'population': 990427,\n",
        "        'fact': 'Westchester is often refered to as the first suburb in America.',\n",
        "     }\n",
        "  }\n",
        "for city, city_info in cities.items():\n",
        "    country = city_info['country'].title()\n",
        "    population = city_info['population']\n",
        "    fact = city_info['fact'].title()\n",
        "\n",
        "    print(f\"\\n{city.title()} is in {country}.\")\n",
        "    print(f\"  It has a population of around {population}.\")\n",
        "    print(f\"  A fun fact is {fact}!\")\n",
        "\n",
        "\n"
      ],
      "metadata": {
        "colab": {
          "base_uri": "https://localhost:8080/"
        },
        "id": "xphVFfzLkYlv",
        "outputId": "7362f3d9-ec7b-4018-e3d5-dd63ec1a78d9"
      },
      "execution_count": null,
      "outputs": [
        {
          "output_type": "stream",
          "name": "stdout",
          "text": [
            "\n",
            "Lindenhurst is in United States.\n",
            "  It has a population of around 27000.\n",
            "  A fun fact is Lindenhurst Is Home Of The Bulldogs.!\n",
            "\n",
            "Plattsburgh is in United States.\n",
            "  It has a population of around 19900.\n",
            "  A fun fact is Plattsburgh Is Located On Lake Champlain.!\n",
            "\n",
            "Westchester is in United States.\n",
            "  It has a population of around 990427.\n",
            "  A fun fact is Westchester Is Often Refered To As The First Suburb In America.!\n"
          ]
        }
      ]
    },
    {
      "cell_type": "code",
      "source": [
        "#Read Name, Grade dictionary from file\n",
        "from google.colab import files\n",
        "\n",
        "uploaded = files.upload()\n"
      ],
      "metadata": {
        "colab": {
          "base_uri": "https://localhost:8080/",
          "height": 73
        },
        "id": "MZJzDYmGU0k8",
        "outputId": "e3373bb6-14f8-485a-ae4f-28b75c115b37"
      },
      "execution_count": 14,
      "outputs": [
        {
          "output_type": "display_data",
          "data": {
            "text/plain": [
              "<IPython.core.display.HTML object>"
            ],
            "text/html": [
              "\n",
              "     <input type=\"file\" id=\"files-17a6537a-ab07-44a0-b108-fa516cc252ef\" name=\"files[]\" multiple disabled\n",
              "        style=\"border:none\" />\n",
              "     <output id=\"result-17a6537a-ab07-44a0-b108-fa516cc252ef\">\n",
              "      Upload widget is only available when the cell has been executed in the\n",
              "      current browser session. Please rerun this cell to enable.\n",
              "      </output>\n",
              "      <script>// Copyright 2017 Google LLC\n",
              "//\n",
              "// Licensed under the Apache License, Version 2.0 (the \"License\");\n",
              "// you may not use this file except in compliance with the License.\n",
              "// You may obtain a copy of the License at\n",
              "//\n",
              "//      http://www.apache.org/licenses/LICENSE-2.0\n",
              "//\n",
              "// Unless required by applicable law or agreed to in writing, software\n",
              "// distributed under the License is distributed on an \"AS IS\" BASIS,\n",
              "// WITHOUT WARRANTIES OR CONDITIONS OF ANY KIND, either express or implied.\n",
              "// See the License for the specific language governing permissions and\n",
              "// limitations under the License.\n",
              "\n",
              "/**\n",
              " * @fileoverview Helpers for google.colab Python module.\n",
              " */\n",
              "(function(scope) {\n",
              "function span(text, styleAttributes = {}) {\n",
              "  const element = document.createElement('span');\n",
              "  element.textContent = text;\n",
              "  for (const key of Object.keys(styleAttributes)) {\n",
              "    element.style[key] = styleAttributes[key];\n",
              "  }\n",
              "  return element;\n",
              "}\n",
              "\n",
              "// Max number of bytes which will be uploaded at a time.\n",
              "const MAX_PAYLOAD_SIZE = 100 * 1024;\n",
              "\n",
              "function _uploadFiles(inputId, outputId) {\n",
              "  const steps = uploadFilesStep(inputId, outputId);\n",
              "  const outputElement = document.getElementById(outputId);\n",
              "  // Cache steps on the outputElement to make it available for the next call\n",
              "  // to uploadFilesContinue from Python.\n",
              "  outputElement.steps = steps;\n",
              "\n",
              "  return _uploadFilesContinue(outputId);\n",
              "}\n",
              "\n",
              "// This is roughly an async generator (not supported in the browser yet),\n",
              "// where there are multiple asynchronous steps and the Python side is going\n",
              "// to poll for completion of each step.\n",
              "// This uses a Promise to block the python side on completion of each step,\n",
              "// then passes the result of the previous step as the input to the next step.\n",
              "function _uploadFilesContinue(outputId) {\n",
              "  const outputElement = document.getElementById(outputId);\n",
              "  const steps = outputElement.steps;\n",
              "\n",
              "  const next = steps.next(outputElement.lastPromiseValue);\n",
              "  return Promise.resolve(next.value.promise).then((value) => {\n",
              "    // Cache the last promise value to make it available to the next\n",
              "    // step of the generator.\n",
              "    outputElement.lastPromiseValue = value;\n",
              "    return next.value.response;\n",
              "  });\n",
              "}\n",
              "\n",
              "/**\n",
              " * Generator function which is called between each async step of the upload\n",
              " * process.\n",
              " * @param {string} inputId Element ID of the input file picker element.\n",
              " * @param {string} outputId Element ID of the output display.\n",
              " * @return {!Iterable<!Object>} Iterable of next steps.\n",
              " */\n",
              "function* uploadFilesStep(inputId, outputId) {\n",
              "  const inputElement = document.getElementById(inputId);\n",
              "  inputElement.disabled = false;\n",
              "\n",
              "  const outputElement = document.getElementById(outputId);\n",
              "  outputElement.innerHTML = '';\n",
              "\n",
              "  const pickedPromise = new Promise((resolve) => {\n",
              "    inputElement.addEventListener('change', (e) => {\n",
              "      resolve(e.target.files);\n",
              "    });\n",
              "  });\n",
              "\n",
              "  const cancel = document.createElement('button');\n",
              "  inputElement.parentElement.appendChild(cancel);\n",
              "  cancel.textContent = 'Cancel upload';\n",
              "  const cancelPromise = new Promise((resolve) => {\n",
              "    cancel.onclick = () => {\n",
              "      resolve(null);\n",
              "    };\n",
              "  });\n",
              "\n",
              "  // Wait for the user to pick the files.\n",
              "  const files = yield {\n",
              "    promise: Promise.race([pickedPromise, cancelPromise]),\n",
              "    response: {\n",
              "      action: 'starting',\n",
              "    }\n",
              "  };\n",
              "\n",
              "  cancel.remove();\n",
              "\n",
              "  // Disable the input element since further picks are not allowed.\n",
              "  inputElement.disabled = true;\n",
              "\n",
              "  if (!files) {\n",
              "    return {\n",
              "      response: {\n",
              "        action: 'complete',\n",
              "      }\n",
              "    };\n",
              "  }\n",
              "\n",
              "  for (const file of files) {\n",
              "    const li = document.createElement('li');\n",
              "    li.append(span(file.name, {fontWeight: 'bold'}));\n",
              "    li.append(span(\n",
              "        `(${file.type || 'n/a'}) - ${file.size} bytes, ` +\n",
              "        `last modified: ${\n",
              "            file.lastModifiedDate ? file.lastModifiedDate.toLocaleDateString() :\n",
              "                                    'n/a'} - `));\n",
              "    const percent = span('0% done');\n",
              "    li.appendChild(percent);\n",
              "\n",
              "    outputElement.appendChild(li);\n",
              "\n",
              "    const fileDataPromise = new Promise((resolve) => {\n",
              "      const reader = new FileReader();\n",
              "      reader.onload = (e) => {\n",
              "        resolve(e.target.result);\n",
              "      };\n",
              "      reader.readAsArrayBuffer(file);\n",
              "    });\n",
              "    // Wait for the data to be ready.\n",
              "    let fileData = yield {\n",
              "      promise: fileDataPromise,\n",
              "      response: {\n",
              "        action: 'continue',\n",
              "      }\n",
              "    };\n",
              "\n",
              "    // Use a chunked sending to avoid message size limits. See b/62115660.\n",
              "    let position = 0;\n",
              "    do {\n",
              "      const length = Math.min(fileData.byteLength - position, MAX_PAYLOAD_SIZE);\n",
              "      const chunk = new Uint8Array(fileData, position, length);\n",
              "      position += length;\n",
              "\n",
              "      const base64 = btoa(String.fromCharCode.apply(null, chunk));\n",
              "      yield {\n",
              "        response: {\n",
              "          action: 'append',\n",
              "          file: file.name,\n",
              "          data: base64,\n",
              "        },\n",
              "      };\n",
              "\n",
              "      let percentDone = fileData.byteLength === 0 ?\n",
              "          100 :\n",
              "          Math.round((position / fileData.byteLength) * 100);\n",
              "      percent.textContent = `${percentDone}% done`;\n",
              "\n",
              "    } while (position < fileData.byteLength);\n",
              "  }\n",
              "\n",
              "  // All done.\n",
              "  yield {\n",
              "    response: {\n",
              "      action: 'complete',\n",
              "    }\n",
              "  };\n",
              "}\n",
              "\n",
              "scope.google = scope.google || {};\n",
              "scope.google.colab = scope.google.colab || {};\n",
              "scope.google.colab._files = {\n",
              "  _uploadFiles,\n",
              "  _uploadFilesContinue,\n",
              "};\n",
              "})(self);\n",
              "</script> "
            ]
          },
          "metadata": {}
        },
        {
          "output_type": "stream",
          "name": "stdout",
          "text": [
            "Saving grade.txt to grade (1).txt\n"
          ]
        }
      ]
    },
    {
      "cell_type": "code",
      "source": [
        "#Read Name, Grade dictionary from file\n",
        "grades_file = list(uploaded.keys())[0]\n",
        "\n",
        "def read_grades(filename):\n",
        "    grades_dict = {}\n",
        "    with open(filename, 'r') as file:\n",
        "        for line in file:\n",
        "            name, grade = line.strip().split(',')\n",
        "            grades_dict[name] = float(grade)\n",
        "    return grades_dict\n",
        "\n",
        "grades_dict = read_grades(grades_file)\n",
        "\n",
        "print_sorted_by_name(grades_dict)\n",
        "\n",
        "print_sorted_by_grade(grades_dict)\n"
      ],
      "metadata": {
        "colab": {
          "base_uri": "https://localhost:8080/"
        },
        "id": "x2doPIMbTZaC",
        "outputId": "d9fdf02e-48a1-4e8b-8fa1-b7e76cdbfd62"
      },
      "execution_count": 16,
      "outputs": [
        {
          "output_type": "stream",
          "name": "stdout",
          "text": [
            "Sorted by names:\n",
            "amy: 89.0\n",
            "ankita: 97.0\n",
            "ayush: 94.0\n",
            "bob: 97.0\n",
            "kevin: 91.0\n",
            "ned: 79.0\n",
            "timmy: 82.0\n",
            "Sorted by grades:\n",
            "bob: 97.0\n",
            "ankita: 97.0\n",
            "ayush: 94.0\n",
            "kevin: 91.0\n",
            "amy: 89.0\n",
            "timmy: 82.0\n",
            "ned: 79.0\n"
          ]
        }
      ]
    }
  ]
}
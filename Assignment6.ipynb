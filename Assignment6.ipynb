{
  "nbformat": 4,
  "nbformat_minor": 0,
  "metadata": {
    "colab": {
      "provenance": [],
      "authorship_tag": "ABX9TyNuufp7OWtDC+6OwRALvx7W",
      "include_colab_link": true
    },
    "kernelspec": {
      "name": "python3",
      "display_name": "Python 3"
    },
    "language_info": {
      "name": "python"
    }
  },
  "cells": [
    {
      "cell_type": "markdown",
      "metadata": {
        "id": "view-in-github",
        "colab_type": "text"
      },
      "source": [
        "<a href=\"https://colab.research.google.com/github/arose030/CSC221_arose030/blob/main/Assignment6.ipynb\" target=\"_parent\"><img src=\"https://colab.research.google.com/assets/colab-badge.svg\" alt=\"Open In Colab\"/></a>"
      ]
    },
    {
      "cell_type": "code",
      "execution_count": 2,
      "metadata": {
        "colab": {
          "base_uri": "https://localhost:8080/"
        },
        "id": "DyX_-ZhEswpH",
        "outputId": "46a41917-844b-46a6-fde9-1f30fca8f712"
      },
      "outputs": [
        {
          "output_type": "stream",
          "name": "stdout",
          "text": [
            "Is car == 'camaro'? I predict True.\n",
            "True\n",
            "\n",
            "Is car == 'audi'? I predict False\n",
            "False\n"
          ]
        }
      ],
      "source": [
        "#TIY 5-1\n",
        "car = 'camaro'\n",
        "print(\"Is car == 'camaro'? I predict True.\")\n",
        "print(car == 'camaro')\n",
        "\n",
        "print(\"\\nIs car == 'audi'? I predict False\")\n",
        "print(car == 'audi')"
      ]
    },
    {
      "cell_type": "code",
      "source": [
        "#TIY 5-2\n",
        "car = 'bmw'\n",
        "print(\"Is car == 'bmw'? I predict True.\")\n",
        "print(car == 'bmw')\n",
        "\n",
        "print(\"\\nIs car == 'toyota'? I predict False\")\n",
        "print(car == 'toyota')"
      ],
      "metadata": {
        "colab": {
          "base_uri": "https://localhost:8080/"
        },
        "id": "r3ry2RGHuAHV",
        "outputId": "91ca7c77-d0d0-4275-9b64-8100d76bc47a"
      },
      "execution_count": 3,
      "outputs": [
        {
          "output_type": "stream",
          "name": "stdout",
          "text": [
            "Is car == 'bmw'? I predict True.\n",
            "True\n",
            "\n",
            "Is car == 'toyota'? I predict False\n",
            "False\n"
          ]
        }
      ]
    },
    {
      "cell_type": "code",
      "source": [
        "#TIY 5-2 cont.\n",
        "car = 'camaro'\n",
        "print(car == 'audi')\n",
        "print(car == 'camaro')"
      ],
      "metadata": {
        "colab": {
          "base_uri": "https://localhost:8080/"
        },
        "id": "o_9hFwcqu3SH",
        "outputId": "df92c2d8-e580-4d27-b9e4-ccef8bcfc12b"
      },
      "execution_count": 4,
      "outputs": [
        {
          "output_type": "stream",
          "name": "stdout",
          "text": [
            "False\n",
            "True\n"
          ]
        }
      ]
    },
    {
      "cell_type": "code",
      "source": [
        "#TIY 5-2 cont.\n",
        "cars = ['camaro', 'bmw', 'audi']\n",
        "for car in cars:\n",
        "  if car == 'bmw':\n",
        "    print(True)\n",
        "  else:\n",
        "    print(False)"
      ],
      "metadata": {
        "colab": {
          "base_uri": "https://localhost:8080/"
        },
        "id": "UM0sHMW8vCTW",
        "outputId": "ae0268e5-fa37-4976-b1c2-6ba77c9fa1f2"
      },
      "execution_count": 5,
      "outputs": [
        {
          "output_type": "stream",
          "name": "stdout",
          "text": [
            "False\n",
            "True\n",
            "False\n"
          ]
        }
      ]
    },
    {
      "cell_type": "code",
      "source": [
        "#TIY 5-2 cont.\n",
        "cars = ['camaro', 'bmw', 'audi']\n",
        "for car in cars:\n",
        "  if car == 'toyota':\n",
        "    print(True)\n",
        "  else:\n",
        "    print(False)"
      ],
      "metadata": {
        "colab": {
          "base_uri": "https://localhost:8080/"
        },
        "id": "5498WrrSvFQm",
        "outputId": "98b0500f-c1ca-43df-96fb-ef7f42d5496e"
      },
      "execution_count": 6,
      "outputs": [
        {
          "output_type": "stream",
          "name": "stdout",
          "text": [
            "False\n",
            "False\n",
            "False\n"
          ]
        }
      ]
    },
    {
      "cell_type": "code",
      "source": [
        "#TIY 5-2 cont.\n",
        "cars = 'camaro'\n",
        "cars2 = 'toyota'\n",
        "if cars == ('camaro') and cars2 == ('toyota'):\n",
        "  print(True)\n",
        "else:\n",
        "  print(False)"
      ],
      "metadata": {
        "colab": {
          "base_uri": "https://localhost:8080/"
        },
        "id": "zxkc2jS8vKVk",
        "outputId": "e264b177-5715-4093-c4df-2b0ba3ccfe8a"
      },
      "execution_count": 7,
      "outputs": [
        {
          "output_type": "stream",
          "name": "stdout",
          "text": [
            "True\n"
          ]
        }
      ]
    },
    {
      "cell_type": "code",
      "source": [
        "#TIY 5-2 cont.\n",
        "food = 'hamburger'\n",
        "print(\"Is food == 'hamburger'? I predict True.\")\n",
        "print(food == 'hamburger')\n",
        "\n",
        "print(\"\\nIs food == 'cheese'? I predict False\")\n",
        "print(food == 'cheese')"
      ],
      "metadata": {
        "colab": {
          "base_uri": "https://localhost:8080/"
        },
        "id": "SP_v2_ETvomE",
        "outputId": "7ce2c0ef-47f6-4e70-9562-54a28dff6d31"
      },
      "execution_count": 8,
      "outputs": [
        {
          "output_type": "stream",
          "name": "stdout",
          "text": [
            "Is food == 'hamburger'? I predict True.\n",
            "True\n",
            "\n",
            "Is food == 'cheese'? I predict False\n",
            "False\n"
          ]
        }
      ]
    },
    {
      "cell_type": "code",
      "source": [
        "#TIY 5-2 cont.\n",
        "food = 'hotdog'\n",
        "print(\"Is food == 'hotdog'? I predict True.\")\n",
        "print(food == 'hotdog')\n",
        "\n",
        "print(\"\\nIs food == 'apple'? I predict False\")\n",
        "print(food == 'apple')"
      ],
      "metadata": {
        "colab": {
          "base_uri": "https://localhost:8080/"
        },
        "id": "5cdFnSPxvrUV",
        "outputId": "d701ba74-c70f-4a63-ea26-b0fc1819e82d"
      },
      "execution_count": 9,
      "outputs": [
        {
          "output_type": "stream",
          "name": "stdout",
          "text": [
            "Is food == 'hotdog'? I predict True.\n",
            "True\n",
            "\n",
            "Is food == 'apple'? I predict False\n",
            "False\n"
          ]
        }
      ]
    },
    {
      "cell_type": "code",
      "source": [
        "#TIY 5-2 cont.\n",
        "food = 'pizza'\n",
        "print(\"Is food == 'pizza'? I predict True.\")\n",
        "print(food == 'pizza')\n",
        "\n",
        "print(\"\\nIs food == 'pear'? I predict False\")\n",
        "print(food == 'pear')"
      ],
      "metadata": {
        "colab": {
          "base_uri": "https://localhost:8080/"
        },
        "id": "rHgQElgGvvRs",
        "outputId": "7ce30683-f1a5-45f0-e15d-593cc9047361"
      },
      "execution_count": 10,
      "outputs": [
        {
          "output_type": "stream",
          "name": "stdout",
          "text": [
            "Is food == 'pizza'? I predict True.\n",
            "True\n",
            "\n",
            "Is food == 'pear'? I predict False\n",
            "False\n"
          ]
        }
      ]
    },
    {
      "cell_type": "code",
      "source": [
        "#TIY 5-3\n",
        "alien_color = 'purple'\n",
        "if alien_color == 'purple':\n",
        "  print('You gained 5 points')\n",
        "alien_color = 'orange'\n",
        "if alien_color == 'pink':\n",
        "   print('You gained 5 points')\n"
      ],
      "metadata": {
        "colab": {
          "base_uri": "https://localhost:8080/"
        },
        "id": "s4z4QaHIv74t",
        "outputId": "d5636dfd-04c5-46ef-a05f-4802b51597a2"
      },
      "execution_count": 12,
      "outputs": [
        {
          "output_type": "stream",
          "name": "stdout",
          "text": [
            "You gained 5 points\n"
          ]
        }
      ]
    },
    {
      "cell_type": "code",
      "source": [
        "#TIY 5-6\n",
        "age = 30\n",
        "if age < 2:\n",
        "  print('You are a baby.')\n",
        "elif age >= 2 and age < 4:\n",
        "  print('You are a toddler.')\n",
        "elif age >= 4 and age < 13:\n",
        "  print('You are a kid.')\n",
        "elif age >= 13 and age < 20:\n",
        "  print('You are a teenager.')\n",
        "elif age >= 20 and age < 60:\n",
        "  print('You are an adult.')\n",
        "else:\n",
        "  print('You are an elder')"
      ],
      "metadata": {
        "colab": {
          "base_uri": "https://localhost:8080/"
        },
        "id": "RTk7v_zZw8_j",
        "outputId": "9475a490-52dc-436f-f160-aa096eee5044"
      },
      "execution_count": 13,
      "outputs": [
        {
          "output_type": "stream",
          "name": "stdout",
          "text": [
            "You are an adult.\n"
          ]
        }
      ]
    },
    {
      "cell_type": "code",
      "source": [
        "#TIY 5-12\n",
        "#(I think im ok on the style??)"
      ],
      "metadata": {
        "id": "KnUkVNqwxCvw"
      },
      "execution_count": null,
      "outputs": []
    },
    {
      "cell_type": "code",
      "source": [
        "#TIY 5-13\n",
        "# My problem we are trying to solve for is \"What should I wear today?\"\n",
        "\n",
        "# Get the user input for the weather condition\n",
        "weather = input(\"What is the weather like today? (sunny/cloudy/rainy/snowy): \")\n",
        "\n",
        "# Based on the weather condition, suggest appropriate clothing\n",
        "if weather == \"sunny\":\n",
        "    print(\"It's sunny! Wear sunglasses, a hat, and sunscreen.\")\n",
        "elif weather == \"cloudy\":\n",
        "    print(\"It's cloudy. Bring a light jacket just in case.\")\n",
        "elif weather == \"rainy\":\n",
        "    print(\"It's rainy! Don't forget your umbrella and raincoat.\")\n",
        "elif weather == \"snowy\":\n",
        "    print(\"It's snowy! Bundle up with a heavy coat, gloves, and boots.\")\n",
        "else:\n",
        "    print(\"Sorry, I didn't understand that weather condition. Please try again.\")\n",
        "\n",
        "\n"
      ],
      "metadata": {
        "colab": {
          "base_uri": "https://localhost:8080/"
        },
        "id": "4OG_cjNVzKXB",
        "outputId": "77c1a4bd-3a41-47f7-8aed-f070a9e32a9d"
      },
      "execution_count": 17,
      "outputs": [
        {
          "output_type": "stream",
          "name": "stdout",
          "text": [
            "What is the weather like today? (sunny/cloudy/rainy/snowy): cloudy\n",
            "It's cloudy. Bring a light jacket just in case.\n"
          ]
        }
      ]
    }
  ]
}
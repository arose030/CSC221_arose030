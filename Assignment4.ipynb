{
  "nbformat": 4,
  "nbformat_minor": 0,
  "metadata": {
    "colab": {
      "provenance": [],
      "authorship_tag": "ABX9TyOWj5nkwdgyTtvZ9hgHRLH2",
      "include_colab_link": true
    },
    "kernelspec": {
      "name": "python3",
      "display_name": "Python 3"
    },
    "language_info": {
      "name": "python"
    }
  },
  "cells": [
    {
      "cell_type": "markdown",
      "metadata": {
        "id": "view-in-github",
        "colab_type": "text"
      },
      "source": [
        "<a href=\"https://colab.research.google.com/github/arose030/CSC221_arose030/blob/main/Assignment4.ipynb\" target=\"_parent\"><img src=\"https://colab.research.google.com/assets/colab-badge.svg\" alt=\"Open In Colab\"/></a>"
      ]
    },
    {
      "cell_type": "code",
      "execution_count": null,
      "metadata": {
        "colab": {
          "base_uri": "https://localhost:8080/"
        },
        "id": "hnEjYQ_EG5jt",
        "outputId": "6f5b640c-473b-4974-ed67-3e0e4aa20a3c"
      },
      "outputs": [
        {
          "output_type": "stream",
          "name": "stdout",
          "text": [
            "Lilly\n",
            "Sam\n",
            "Sue\n"
          ]
        }
      ],
      "source": [
        "# TIY 3-1. Names:\n",
        "names = [\"Lilly\", \"Sam\", \"Sue\"]\n",
        "print(names[0])\n",
        "print(names[1])\n",
        "print(names[2])\n"
      ]
    },
    {
      "cell_type": "code",
      "source": [
        "# TIY 3-2. Greetings:\n",
        "names = [\"Lilly\", \"Sam\", \"Sue\"]\n",
        "print(\"Hey, lets go to the mall {}\".format(names[0]))\n",
        "print(\"Hey, lets go to the store {}\".format(names[1]))\n",
        "print(\"Hey, lets go to the doctor {}\".format(names[2]))\n"
      ],
      "metadata": {
        "colab": {
          "base_uri": "https://localhost:8080/"
        },
        "id": "BPsAs6Q_voZf",
        "outputId": "019c700e-d8dd-4e05-f613-da00777e7f08"
      },
      "execution_count": null,
      "outputs": [
        {
          "output_type": "stream",
          "name": "stdout",
          "text": [
            "Hey, lets go to the mall Lilly\n",
            "Hey, lets go to the store Sam\n",
            "Hey, lets go to the doctor Sue\n"
          ]
        }
      ]
    },
    {
      "cell_type": "code",
      "source": [
        "# TIY 3-3. Your Own List:\n",
        "favorite_transportation = ['car' , \"boat\"]\n",
        "print(\"I drive a {}\".format(favorite_transportation[0]))\n",
        "print(\"I wish I had a {}\".format(favorite_transportation[1]))\n"
      ],
      "metadata": {
        "colab": {
          "base_uri": "https://localhost:8080/"
        },
        "id": "VYMkfzTIxhpS",
        "outputId": "829165dd-9303-4e89-fe6c-ba091150682f"
      },
      "execution_count": null,
      "outputs": [
        {
          "output_type": "stream",
          "name": "stdout",
          "text": [
            "I drive a car\n",
            "I wish I had a boat\n"
          ]
        }
      ]
    },
    {
      "cell_type": "code",
      "source": [
        "# TIY 3-4. Guest List:\n",
        "invitations = [\"Pop Smoke\", \"Post Malone\", \"John Summit\"]\n",
        "for invitation in invitations:\n",
        "    print(\"Welcome to my dinner party {}\".format(invitation))"
      ],
      "metadata": {
        "colab": {
          "base_uri": "https://localhost:8080/"
        },
        "id": "FcrUuyVKzYtu",
        "outputId": "e19d9e20-a86e-4834-a396-27283b43ee9d"
      },
      "execution_count": null,
      "outputs": [
        {
          "output_type": "stream",
          "name": "stdout",
          "text": [
            "Welcome to my dinner party Pop Smoke\n",
            "Welcome to my dinner party Post Malone\n",
            "Welcome to my dinner party John Summit\n"
          ]
        }
      ]
    },
    {
      "cell_type": "code",
      "source": [
        "# TIY 3-5. Changing Guest List:\n",
        "invitations = [\"Pop Smoke\", \"Post Malone\", \"John Summit\"]\n",
        "\n",
        "for invitation in invitations:\n",
        "    print(\"Welcome to my dinner party {}\".format(invitation))\n",
        "\n",
        "print()\n",
        "\n",
        "print(\"{} can't make it to the party\".format(invitations[2]))\n",
        "invitations.pop(2)\n",
        "print()\n",
        "\n",
        "invitations.append(\"Lady Gaga\")\n",
        "for invitation in invitations:\n",
        "    print(\"Welcome to my dinner party {}\".format(invitation))"
      ],
      "metadata": {
        "colab": {
          "base_uri": "https://localhost:8080/"
        },
        "id": "8-tS3ZTp0zYQ",
        "outputId": "8eb342b6-72b5-45d2-9fea-0a0ed18b7e1d"
      },
      "execution_count": null,
      "outputs": [
        {
          "output_type": "stream",
          "name": "stdout",
          "text": [
            "Welcome to my dinner party Pop Smoke\n",
            "Welcome to my dinner party Post Malone\n",
            "Welcome to my dinner party John Summit\n",
            "\n",
            "John Summit can't make it to the party\n",
            "\n",
            "Welcome to my dinner party Pop Smoke\n",
            "Welcome to my dinner party Post Malone\n",
            "Welcome to my dinner party Lady Gaga\n"
          ]
        }
      ]
    },
    {
      "cell_type": "code",
      "source": [
        "# TIY 3-6. More Guests:\n",
        "invitations = [\"Pop Smoke\", \"Post Malone\", \"John Summit\"]\n",
        "\n",
        "for invitation in invitations:\n",
        "    print(\"Welcome to my dinner party {}\".format(invitation))\n",
        "\n",
        "print()\n",
        "\n",
        "print(\"{} can't make it to the party\".format(invitations[2]))\n",
        "invitations.pop(2)\n",
        "print()\n",
        "\n",
        "invitations.append(\"Lady Gaga\")\n",
        "for invitation in invitations:\n",
        "    print(\"Welcome to my dinner party {}\".format(invitation))\n",
        "print()\n",
        "\n",
        "print(\"People, just found a bigger table and more people will be joining us this evening\")\n",
        "print()\n",
        "invitations.insert(0, \"Lilly Wilson\")\n",
        "invitations.insert(2, \"Susan Sullivian\")\n",
        "invitations.append(\"Kelly\")\n",
        "\n",
        "for invitation in invitations:\n",
        "    print(\"Welcome to my dinner party {}\".format(invitation))"
      ],
      "metadata": {
        "colab": {
          "base_uri": "https://localhost:8080/"
        },
        "id": "TTopnvdk3MgA",
        "outputId": "66ec8928-b69b-49b9-a88f-f930ece1a2b9"
      },
      "execution_count": null,
      "outputs": [
        {
          "output_type": "stream",
          "name": "stdout",
          "text": [
            "Welcome to my dinner party Pop Smoke\n",
            "Welcome to my dinner party Post Malone\n",
            "Welcome to my dinner party John Summit\n",
            "\n",
            "John Summit can't make it to the party\n",
            "\n",
            "Welcome to my dinner party Pop Smoke\n",
            "Welcome to my dinner party Post Malone\n",
            "Welcome to my dinner party Lady Gaga\n",
            "\n",
            "People, just found a bigger table and more people will be joining us this evening\n",
            "\n",
            "Welcome to my dinner party Lilly Wilson\n",
            "Welcome to my dinner party Pop Smoke\n",
            "Welcome to my dinner party Susan Sullivian\n",
            "Welcome to my dinner party Post Malone\n",
            "Welcome to my dinner party Lady Gaga\n",
            "Welcome to my dinner party Kelly\n"
          ]
        }
      ]
    },
    {
      "cell_type": "code",
      "source": [
        "# TIY 3-7. Shrinking Guest List:\n",
        "invitations = [\"Pop Smoke\", \"Post Malone\", \"John Summit\"]\n",
        "for invitation in invitations:\n",
        "    print(\"Welcome to my dinner party {}\".format(invitation))\n",
        "\n",
        "print()\n",
        "\n",
        "print(\"{} can't make it to the party\".format(invitations[2]))\n",
        "invitations.pop(2)\n",
        "print()\n",
        "\n",
        "invitations.append(\"Lady Gaga\")\n",
        "for invitation in invitations:\n",
        "    print(\"Welcome to my dinner party {}\".format(invitation))\n",
        "print()\n",
        "\n",
        "print(\"People, just found a bigger table and more people will be joining us this evening\")\n",
        "print()\n",
        "invitations.insert(0, \"Lilly Wilson\")\n",
        "invitations.insert(2, \"Susan Sullivian\")\n",
        "invitations.append(\"Kelly\")\n",
        "\n",
        "for invitation in invitations:\n",
        "    print(\"Welcome to my dinner party {}\".format(invitation))\n",
        "print()\n",
        "print(\"I can invite only two people\")\n",
        "\n",
        "invitations.pop(0)\n",
        "print(\"Lilly Wilson, good bye\")\n",
        "invitations.pop(1)\n",
        "print(\"Susan, good bye\")\n",
        "invitations.pop(0)\n",
        "print(\"Kelly, good bye\")\n",
        "invitations.pop(1)\n",
        "print(\"Lady Gaga, good bye\")\n",
        "\n",
        "print(\"{0} & {1}, you guys are still invited\".format(invitations[0], invitations[1]))\n",
        "del invitations[0]\n",
        "del invitations[0]\n",
        "print(invitations)\n",
        "\n",
        "\n",
        "\n"
      ],
      "metadata": {
        "colab": {
          "base_uri": "https://localhost:8080/"
        },
        "id": "1eVGN0AG4FEB",
        "outputId": "c68d6ee9-66ac-4fe9-c86d-ca12a10c5634"
      },
      "execution_count": null,
      "outputs": [
        {
          "output_type": "stream",
          "name": "stdout",
          "text": [
            "Welcome to my dinner party Pop Smoke\n",
            "Welcome to my dinner party Post Malone\n",
            "Welcome to my dinner party John Summit\n",
            "\n",
            "John Summit can't make it to the party\n",
            "\n",
            "Welcome to my dinner party Pop Smoke\n",
            "Welcome to my dinner party Post Malone\n",
            "Welcome to my dinner party Lady Gaga\n",
            "\n",
            "People, just found a bigger table and more people will be joining us this evening\n",
            "\n",
            "Welcome to my dinner party Lilly Wilson\n",
            "Welcome to my dinner party Pop Smoke\n",
            "Welcome to my dinner party Susan Sullivian\n",
            "Welcome to my dinner party Post Malone\n",
            "Welcome to my dinner party Lady Gaga\n",
            "Welcome to my dinner party Kelly\n",
            "\n",
            "I can invite only two people\n",
            "Lilly Wilson, good bye\n",
            "Susan, good bye\n",
            "Kelly, good bye\n",
            "Lady Gaga, good bye\n",
            "Post Malone & Kelly, you guys are still invited\n",
            "[]\n"
          ]
        }
      ]
    },
    {
      "cell_type": "code",
      "source": [
        "# TIY 3-8\n",
        "cities = [\"Italy\", \"Berlin\", \"Brazil\", \"paris\", \"Japan\"]\n",
        "print(cities)\n",
        "print(sorted(cities))\n",
        "print(cities)\n",
        "print(sorted(cities, reverse=True))\n",
        "print(cities)\n",
        "cities.reverse()\n",
        "print(cities)\n",
        "cities.reverse()\n",
        "print(cities)\n",
        "cities.sort()\n",
        "print(cities)\n",
        "cities.sort(reverse = True)\n",
        "print(cities)"
      ],
      "metadata": {
        "colab": {
          "base_uri": "https://localhost:8080/"
        },
        "id": "rX2eruoW5ifl",
        "outputId": "f087f1c2-8452-48df-f6a6-2440db065372"
      },
      "execution_count": null,
      "outputs": [
        {
          "output_type": "stream",
          "name": "stdout",
          "text": [
            "['Italy', 'Berlin', 'Brazil', 'paris', 'Japan']\n",
            "['Berlin', 'Brazil', 'Italy', 'Japan', 'paris']\n",
            "['Italy', 'Berlin', 'Brazil', 'paris', 'Japan']\n",
            "['paris', 'Japan', 'Italy', 'Brazil', 'Berlin']\n",
            "['Italy', 'Berlin', 'Brazil', 'paris', 'Japan']\n",
            "['Japan', 'paris', 'Brazil', 'Berlin', 'Italy']\n",
            "['Italy', 'Berlin', 'Brazil', 'paris', 'Japan']\n",
            "['Berlin', 'Brazil', 'Italy', 'Japan', 'paris']\n",
            "['paris', 'Japan', 'Italy', 'Brazil', 'Berlin']\n"
          ]
        }
      ]
    },
    {
      "cell_type": "code",
      "source": [
        "# TIY 3-9 Dinner Guests:\n",
        "invitations = [\"Pop Smoke\", \"Post Malone\", \"John Summit\"]\n",
        "count_invitations = len(invitations)\n",
        "\n",
        "print(\"{} people will come to my dinner party\".format(count_invitations))"
      ],
      "metadata": {
        "colab": {
          "base_uri": "https://localhost:8080/"
        },
        "id": "uGLkRlNY674y",
        "outputId": "ca9a67f0-68d8-4dfd-e3c6-850e51c6adcb"
      },
      "execution_count": null,
      "outputs": [
        {
          "output_type": "stream",
          "name": "stdout",
          "text": [
            "3 people will come to my dinner party\n"
          ]
        }
      ]
    },
    {
      "cell_type": "code",
      "source": [
        "# TIY 3-10. Every Function:\n",
        "invitations = [\"Pop Smoke\", \"Post Malone\", \"John Summit\"]\n",
        "print(invitations)\n",
        "invitations[1]=\"Morgan Wallen\"\n",
        "print(invitations)\n",
        "\n",
        "invitations = [\"Pop Smoke\", \"Post Malone\", \"John Summit\"]\n",
        "del invitations[1]\n",
        "print(invitations)\n",
        "\n",
        "invitations = [\"Pop Smoke\", \"Post Malone\", \"John Summit\"]\n",
        "invitations.insert(1,\"Morgan Wallen\")\n",
        "print(invitations)\n",
        "\n",
        "my_list = [2,4,6,8,10]\n",
        "my_list.clear()\n",
        "print(my_list)\n",
        "\n",
        "my_list = [2,4,6,8,10]\n",
        "my_index = my_list.index(2)\n",
        "print(\"The item was first found at index:\", my_index)\n",
        "\n",
        "my_list = [2,4,6,8,10]\n",
        "my_count = my_list.count(2)\n",
        "print(\"The number of times the number appeared was:\", my_count)\n",
        "\n",
        "my_list = [2,4,6,8,10]\n",
        "my_list.reverse()\n",
        "print(\"Reversed list looks like:\", my_list)\n",
        "\n",
        "my_list.sort(reverse=True)\n",
        "print(my_list)\n",
        "\n",
        "my_list.sort()\n",
        "print(my_list)\n",
        "\n",
        "original_list = [2,4,6,8,10]\n",
        "copied_list = original_list.copy()\n",
        "print(\"copied list looks like:\", copied_list)\n",
        "\n",
        "my_list = [2,4,6,8,10]\n",
        "print(len(my_list))\n",
        "\n",
        "my_list = [2,4,6,8,10]\n",
        "sorted(my_list, reverse=True)\n",
        "print(\"sorted list looks like:\", my_list)\n",
        "\n",
        "my_list = [5, 3, 6, 1, 2, 4, 7]\n",
        "sorted(my_list, reverse=True)\n",
        "print(\"Sorted list looks like:\", my_list)\n",
        "\n",
        "my_list=['a','g','d','f','t','x','l']\n",
        "my_list.sort()\n",
        "print(my_list)\n",
        "\n",
        "\n"
      ],
      "metadata": {
        "id": "Wc9wnrX27Wop",
        "colab": {
          "base_uri": "https://localhost:8080/"
        },
        "outputId": "3408eb82-df70-4cab-d600-7b281e2bed48"
      },
      "execution_count": 17,
      "outputs": [
        {
          "output_type": "stream",
          "name": "stdout",
          "text": [
            "['Pop Smoke', 'Post Malone', 'John Summit']\n",
            "['Pop Smoke', 'Morgan Wallen', 'John Summit']\n",
            "['Pop Smoke', 'John Summit']\n",
            "['Pop Smoke', 'Morgan Wallen', 'Post Malone', 'John Summit']\n",
            "[]\n",
            "The item was first found at index: 0\n",
            "The number of times the number appeared was: 1\n",
            "Reversed list looks like: [10, 8, 6, 4, 2]\n",
            "[10, 8, 6, 4, 2]\n",
            "[2, 4, 6, 8, 10]\n",
            "copied list looks like: [2, 4, 6, 8, 10]\n",
            "5\n",
            "sorted list looks like: [2, 4, 6, 8, 10]\n",
            "Sorted list looks like: [5, 3, 6, 1, 2, 4, 7]\n",
            "['a', 'd', 'f', 'g', 'l', 't', 'x']\n"
          ]
        }
      ]
    },
    {
      "cell_type": "code",
      "source": [
        "#TIY 3-11 Intentional Error:\n",
        "#list=[\"Pop Smoke\", \"Post Malone\", \"John Summit\"]\n",
        "print (\"Intentional Error calling for del element at 8 (which doesnt exisit)\")\n",
        "#del list[8]"
      ],
      "metadata": {
        "colab": {
          "base_uri": "https://localhost:8080/"
        },
        "id": "49WNvh-Sa7m2",
        "outputId": "e478fa8b-7f6e-4ccf-e2a2-e6b6ebefc83e"
      },
      "execution_count": 19,
      "outputs": [
        {
          "output_type": "stream",
          "name": "stdout",
          "text": [
            "Intentional Error calling for del element at 8 (which doesnt exisit)\n"
          ]
        }
      ]
    }
  ]
}
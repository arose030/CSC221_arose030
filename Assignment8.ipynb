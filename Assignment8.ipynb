{
  "nbformat": 4,
  "nbformat_minor": 0,
  "metadata": {
    "colab": {
      "provenance": [],
      "authorship_tag": "ABX9TyO9oTCJ9gG7De+XQ68oaOAv",
      "include_colab_link": true
    },
    "kernelspec": {
      "name": "python3",
      "display_name": "Python 3"
    },
    "language_info": {
      "name": "python"
    }
  },
  "cells": [
    {
      "cell_type": "markdown",
      "metadata": {
        "id": "view-in-github",
        "colab_type": "text"
      },
      "source": [
        "<a href=\"https://colab.research.google.com/github/arose030/CSC221_arose030/blob/main/Assignment8.ipynb\" target=\"_parent\"><img src=\"https://colab.research.google.com/assets/colab-badge.svg\" alt=\"Open In Colab\"/></a>"
      ]
    },
    {
      "cell_type": "code",
      "execution_count": null,
      "metadata": {
        "colab": {
          "base_uri": "https://localhost:8080/"
        },
        "id": "kM2hRozMqiLI",
        "outputId": "cf5eb76c-73e1-4902-e787-db432fa1e151"
      },
      "outputs": [
        {
          "output_type": "stream",
          "name": "stdout",
          "text": [
            "My favorite book is 'Hunger Games'\n"
          ]
        }
      ],
      "source": [
        "#TIY 8-2\n",
        "def favorite_book(title):\n",
        "    print(\"My favorite book is {}\".format(title))\n",
        "\n",
        "favorite_book(\"'Hunger Games'\")"
      ]
    },
    {
      "cell_type": "code",
      "source": [
        "#TIY 8-3\n",
        "def make_shirt(size, message):\n",
        "  print(f\"I'm going to make a {size} t-shirt.\")\n",
        "  print(f'It will say \"{message}\"')\n",
        "\n",
        "make_shirt('large', 'Hello')\n",
        "make_shirt(message=\"Hi\", size='medium')\n"
      ],
      "metadata": {
        "id": "9sdyJ_h_rcFI",
        "colab": {
          "base_uri": "https://localhost:8080/"
        },
        "outputId": "84fd0bee-3691-45ae-df9b-ff4e02c750cb"
      },
      "execution_count": 1,
      "outputs": [
        {
          "output_type": "stream",
          "name": "stdout",
          "text": [
            "I'm going to make a large t-shirt.\n",
            "It will say \"Hello\"\n",
            "I'm going to make a medium t-shirt.\n",
            "It will say \"Hi\"\n"
          ]
        }
      ]
    },
    {
      "cell_type": "code",
      "source": [
        "#TIY 8-3\n",
        "def make_shirt(size='large', message='I love starbucks!'):\n",
        "    print(f\"\\nI'm going to make a {size} t-shirt.\")\n",
        "    print(f'It will say, \"{message}\"')\n",
        "\n",
        "make_shirt()\n",
        "make_shirt(size='medium')\n",
        "make_shirt('small', 'keep calm and drink starbucks')"
      ],
      "metadata": {
        "colab": {
          "base_uri": "https://localhost:8080/"
        },
        "id": "0IQv_NB9XW2V",
        "outputId": "9ed7fa59-8831-4579-e6eb-20c9d1e0b6bc"
      },
      "execution_count": 5,
      "outputs": [
        {
          "output_type": "stream",
          "name": "stdout",
          "text": [
            "\n",
            "I'm going to make a large t-shirt.\n",
            "It will say, \"I love starbucks!\"\n",
            "\n",
            "I'm going to make a medium t-shirt.\n",
            "It will say, \"I love starbucks!\"\n",
            "\n",
            "I'm going to make a small t-shirt.\n",
            "It will say, \"keep calm and drink starbucks\"\n"
          ]
        }
      ]
    },
    {
      "cell_type": "code",
      "source": [
        "#Func8\n",
        "# Pseudocode\n",
        "def func8(a, b, c=42):\n",
        "    if len([a, b, c]) == 2:\n",
        "        c = 42\n",
        "    sum_nums = a + b + c\n",
        "    product = a * b * c\n",
        "    sorted_numbers = sorted([a, b, c])\n",
        "    return sum_nums, product, sorted_numbers\n",
        "\n",
        "# Test the function\n",
        "test_cases = [\n",
        "    (2, 3),\n",
        "    (2, 3, 4),\n",
        "    (5, 10, 15),\n",
        "    (2.5, 3.5, 4.5),\n",
        "    (-2, -3, -4),\n",
        "]\n",
        "\n",
        "for case in test_cases:\n",
        "    result = func8(*case)\n",
        "    print(f\"For inputs {case}, result is: {result}\")"
      ],
      "metadata": {
        "colab": {
          "base_uri": "https://localhost:8080/"
        },
        "id": "JBNibvPPaDCb",
        "outputId": "0c48a700-ee73-4603-d583-2770b773f1f7"
      },
      "execution_count": 9,
      "outputs": [
        {
          "output_type": "stream",
          "name": "stdout",
          "text": [
            "For inputs (2, 3), result is: (47, 252, [2, 3, 42])\n",
            "For inputs (2, 3, 4), result is: (9, 24, [2, 3, 4])\n",
            "For inputs (5, 10, 15), result is: (30, 750, [5, 10, 15])\n",
            "For inputs (2.5, 3.5, 4.5), result is: (10.5, 39.375, [2.5, 3.5, 4.5])\n",
            "For inputs (-2, -3, -4), result is: (-9, -24, [-4, -3, -2])\n"
          ]
        }
      ]
    }
  ]
}
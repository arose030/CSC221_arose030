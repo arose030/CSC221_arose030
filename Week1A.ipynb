{
  "nbformat": 4,
  "nbformat_minor": 0,
  "metadata": {
    "colab": {
      "provenance": [],
      "authorship_tag": "ABX9TyMPO6k18DRLADmrR6cSKr3p",
      "include_colab_link": true
    },
    "kernelspec": {
      "name": "python3",
      "display_name": "Python 3"
    },
    "language_info": {
      "name": "python"
    }
  },
  "cells": [
    {
      "cell_type": "markdown",
      "metadata": {
        "id": "view-in-github",
        "colab_type": "text"
      },
      "source": [
        "<a href=\"https://colab.research.google.com/github/arose030/CSC221_arose030/blob/main/Week1A.ipynb\" target=\"_parent\"><img src=\"https://colab.research.google.com/assets/colab-badge.svg\" alt=\"Open In Colab\"/></a>"
      ]
    },
    {
      "cell_type": "code",
      "execution_count": null,
      "metadata": {
        "id": "_RWw9Og6cWLe",
        "colab": {
          "base_uri": "https://localhost:8080/"
        },
        "outputId": "e74ca6a5-9f3f-4d07-8eb3-e031496dfff3"
      },
      "outputs": [
        {
          "output_type": "stream",
          "name": "stdout",
          "text": [
            "My favorite color is purple\n"
          ]
        }
      ],
      "source": [
        "print(\"My favorite color is purple\")"
      ]
    },
    {
      "cell_type": "code",
      "source": [
        "print(\"I am from long island, New York\")"
      ],
      "metadata": {
        "id": "EawocpXrc97J",
        "colab": {
          "base_uri": "https://localhost:8080/"
        },
        "outputId": "cd6f8a42-3b29-43e5-a919-801c86e030ca"
      },
      "execution_count": null,
      "outputs": [
        {
          "output_type": "stream",
          "name": "stdout",
          "text": [
            "I am from long island, New York\n"
          ]
        }
      ]
    },
    {
      "cell_type": "code",
      "source": [
        "print(\"I am a cyber security major\")"
      ],
      "metadata": {
        "colab": {
          "base_uri": "https://localhost:8080/"
        },
        "id": "2X87xwL0fZdn",
        "outputId": "b598db8c-ca51-4c56-d2b5-78b90fbc8360"
      },
      "execution_count": null,
      "outputs": [
        {
          "output_type": "stream",
          "name": "stdout",
          "text": [
            "I am a cyber security major\n"
          ]
        }
      ]
    }
  ]
}
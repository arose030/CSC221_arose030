{
  "nbformat": 4,
  "nbformat_minor": 0,
  "metadata": {
    "colab": {
      "provenance": [],
      "authorship_tag": "ABX9TyMfbuc7yDxQxQXg6QwWp7iq",
      "include_colab_link": true
    },
    "kernelspec": {
      "name": "python3",
      "display_name": "Python 3"
    },
    "language_info": {
      "name": "python"
    }
  },
  "cells": [
    {
      "cell_type": "markdown",
      "metadata": {
        "id": "view-in-github",
        "colab_type": "text"
      },
      "source": [
        "<a href=\"https://colab.research.google.com/github/arose030/CSC221_arose030/blob/main/Assignment5.ipynb\" target=\"_parent\"><img src=\"https://colab.research.google.com/assets/colab-badge.svg\" alt=\"Open In Colab\"/></a>"
      ]
    },
    {
      "cell_type": "code",
      "execution_count": 1,
      "metadata": {
        "colab": {
          "base_uri": "https://localhost:8080/"
        },
        "id": "LcBCDpg7w_j1",
        "outputId": "ddd55237-5311-42c3-9c88-7463fb07e37b"
      },
      "outputs": [
        {
          "output_type": "stream",
          "name": "stdout",
          "text": [
            "I love pepperoni pizza.\n",
            "I love meatball pizza.\n",
            "I love mushroom pizza.\n",
            "I really love pizza!\n"
          ]
        }
      ],
      "source": [
        "#TIY 4-1\n",
        "tops = [\"pepperoni\", \"meatball\", \"mushroom\"]\n",
        "for top in tops:\n",
        "  print('I love', top, 'pizza.')\n",
        "print('I really love pizza!')"
      ]
    },
    {
      "cell_type": "code",
      "source": [
        "#TIY 4-2\n",
        "pets = ['dog', 'cat', 'duck']\n",
        "for pet in pets:\n",
        "  print('A', pet, 'would make a great pet.')\n",
        "print('All of these animals are very fluffy and like to be pet')"
      ],
      "metadata": {
        "colab": {
          "base_uri": "https://localhost:8080/"
        },
        "id": "oZtgDPs3yGFF",
        "outputId": "af8ee0cc-c527-46ce-ea6c-712db7498b00"
      },
      "execution_count": 2,
      "outputs": [
        {
          "output_type": "stream",
          "name": "stdout",
          "text": [
            "A dog would make a great pet.\n",
            "A cat would make a great pet.\n",
            "A duck would make a great pet.\n",
            "All of these animals are very fluffy and like to be pet\n"
          ]
        }
      ]
    },
    {
      "cell_type": "code",
      "source": [
        "#TIY 4-3\n",
        "digs = []\n",
        "for value in range(1,21):\n",
        "  digs.append(value)\n",
        "print(digs)"
      ],
      "metadata": {
        "colab": {
          "base_uri": "https://localhost:8080/"
        },
        "id": "xQx-ayEqyLvC",
        "outputId": "5f8cf616-e23a-4bbb-c0d5-687705f5d342"
      },
      "execution_count": 4,
      "outputs": [
        {
          "output_type": "stream",
          "name": "stdout",
          "text": [
            "[1, 2, 3, 4, 5, 6, 7, 8, 9, 10, 11, 12, 13, 14, 15, 16, 17, 18, 19, 20]\n"
          ]
        }
      ]
    },
    {
      "cell_type": "code",
      "source": [
        "#TIY 4-4\n",
        "digs = []\n",
        "for value in range(1,1000001):\n",
        "  digs.append(value)\n",
        "print(digs)"
      ],
      "metadata": {
        "colab": {
          "base_uri": "https://localhost:8080/"
        },
        "id": "1X8SAF3yygY-",
        "outputId": "a74e8f09-f556-49d0-8ca1-e230f1c89d86"
      },
      "execution_count": 3,
      "outputs": [
        {
          "output_type": "stream",
          "name": "stderr",
          "text": [
            "IOPub data rate exceeded.\n",
            "The notebook server will temporarily stop sending output\n",
            "to the client in order to avoid crashing it.\n",
            "To change this limit, set the config variable\n",
            "`--NotebookApp.iopub_data_rate_limit`.\n",
            "\n",
            "Current values:\n",
            "NotebookApp.iopub_data_rate_limit=1000000.0 (bytes/sec)\n",
            "NotebookApp.rate_limit_window=3.0 (secs)\n",
            "\n"
          ]
        }
      ]
    },
    {
      "cell_type": "code",
      "source": [
        "#TIY 4-5\n",
        "digs = []\n",
        "for value in range(1,1000001):\n",
        "  digs.append(value)\n",
        "min(digs)\n",
        "max(digs)\n",
        "sum(digs)"
      ],
      "metadata": {
        "colab": {
          "base_uri": "https://localhost:8080/"
        },
        "id": "XBopMsRJytn8",
        "outputId": "7d592037-2d7d-4640-e71a-05aaa7c92190"
      },
      "execution_count": 5,
      "outputs": [
        {
          "output_type": "execute_result",
          "data": {
            "text/plain": [
              "500000500000"
            ]
          },
          "metadata": {},
          "execution_count": 5
        }
      ]
    },
    {
      "cell_type": "code",
      "source": [
        "#TIY 4-6\n",
        "odds = list(range(1, 21, 2))\n",
        "for number in odds:\n",
        "  print(number)"
      ],
      "metadata": {
        "colab": {
          "base_uri": "https://localhost:8080/"
        },
        "id": "cbDr0zpxy2Cz",
        "outputId": "3d1d628c-6062-46e0-d8dd-6991dc4d3e55"
      },
      "execution_count": 6,
      "outputs": [
        {
          "output_type": "stream",
          "name": "stdout",
          "text": [
            "1\n",
            "3\n",
            "5\n",
            "7\n",
            "9\n",
            "11\n",
            "13\n",
            "15\n",
            "17\n",
            "19\n"
          ]
        }
      ]
    },
    {
      "cell_type": "code",
      "source": [
        "#TIY 4-7\n",
        "threes = list(range(3, 31, 3))\n",
        "\n",
        "for number in threes:\n",
        "    print(number)"
      ],
      "metadata": {
        "colab": {
          "base_uri": "https://localhost:8080/"
        },
        "id": "YYpzUCF-0FMP",
        "outputId": "808f2b09-94a4-472b-93ea-5be46aa36662"
      },
      "execution_count": 7,
      "outputs": [
        {
          "output_type": "stream",
          "name": "stdout",
          "text": [
            "3\n",
            "6\n",
            "9\n",
            "12\n",
            "15\n",
            "18\n",
            "21\n",
            "24\n",
            "27\n",
            "30\n"
          ]
        }
      ]
    },
    {
      "cell_type": "code",
      "source": [
        "#TIY 4-8\n",
        "cubes = []\n",
        "for number in range(1, 11):\n",
        "    cube = number**3\n",
        "    cubes.append(cube)\n",
        "\n",
        "for cube in cubes:\n",
        "    print(cube)"
      ],
      "metadata": {
        "colab": {
          "base_uri": "https://localhost:8080/"
        },
        "id": "76BHRshK0qe1",
        "outputId": "fc88d276-98af-4c33-fe70-805fb1841b99"
      },
      "execution_count": 8,
      "outputs": [
        {
          "output_type": "stream",
          "name": "stdout",
          "text": [
            "1\n",
            "8\n",
            "27\n",
            "64\n",
            "125\n",
            "216\n",
            "343\n",
            "512\n",
            "729\n",
            "1000\n"
          ]
        }
      ]
    },
    {
      "cell_type": "code",
      "source": [
        "#TIY 4-9\n",
        "cubes = [number**3 for number in range(1,11)]\n",
        "\n",
        "for cube in cubes:\n",
        "    print(cube)"
      ],
      "metadata": {
        "colab": {
          "base_uri": "https://localhost:8080/"
        },
        "id": "KJSGykDz0zPw",
        "outputId": "21575d26-d857-4ebb-f34c-d9eed9cd53ba"
      },
      "execution_count": 9,
      "outputs": [
        {
          "output_type": "stream",
          "name": "stdout",
          "text": [
            "1\n",
            "8\n",
            "27\n",
            "64\n",
            "125\n",
            "216\n",
            "343\n",
            "512\n",
            "729\n",
            "1000\n"
          ]
        }
      ]
    },
    {
      "cell_type": "code",
      "source": [
        "#TIY 4-10\n",
        "players = ['charles', 'martina', 'michael', 'florence', 'eli']\n",
        "print('The first three items in the list are:')\n",
        "print(players[:3])\n",
        "print('The middle three items in the list are:')\n",
        "print(players[1:4])\n",
        "print('The last three items in the list are:')\n",
        "print(players[2:])"
      ],
      "metadata": {
        "colab": {
          "base_uri": "https://localhost:8080/"
        },
        "id": "SnprilMe0364",
        "outputId": "f90c6dc5-cd20-43aa-fcd9-07753cb5a76b"
      },
      "execution_count": 10,
      "outputs": [
        {
          "output_type": "stream",
          "name": "stdout",
          "text": [
            "The first three items in the list are:\n",
            "['charles', 'martina', 'michael']\n",
            "The middle three items in the list are:\n",
            "['martina', 'michael', 'florence']\n",
            "The last three items in the list are:\n",
            "['michael', 'florence', 'eli']\n"
          ]
        }
      ]
    },
    {
      "cell_type": "code",
      "source": [
        "#TIY 4-11\n",
        "tops = [\"pepperoni\", \"meatball\", \"mushroom\"]\n",
        "friend_pizzas = tops[:]\n",
        "tops.append('ranch')\n",
        "friend_pizzas.append('pineapple')\n",
        "for top in tops:\n",
        "  print('My favorite pizzas are', top)\n",
        "for top in friend_pizzas:\n",
        "  print('My friends favorite pizzas are' , top)"
      ],
      "metadata": {
        "colab": {
          "base_uri": "https://localhost:8080/"
        },
        "id": "NBakVFxP1bkg",
        "outputId": "108fa0a9-c054-4ef7-89b8-6219aa6941e0"
      },
      "execution_count": 11,
      "outputs": [
        {
          "output_type": "stream",
          "name": "stdout",
          "text": [
            "My favorite pizzas are pepperoni\n",
            "My favorite pizzas are meatball\n",
            "My favorite pizzas are mushroom\n",
            "My favorite pizzas are ranch\n",
            "My friends favorite pizzas are pepperoni\n",
            "My friends favorite pizzas are meatball\n",
            "My friends favorite pizzas are mushroom\n",
            "My friends favorite pizzas are pineapple\n"
          ]
        }
      ]
    },
    {
      "cell_type": "code",
      "source": [
        "#TIY 4-12\n",
        "my_foods = ['pizza', 'nachos', 'cake']\n",
        "friend_foods = my_foods[:]\n",
        "\n",
        "my_foods.append('cannoli')\n",
        "friend_foods.append('ice cream')\n",
        "\n",
        "print(\"My favorite foods are:\")\n",
        "for food in my_foods:\n",
        "    print(f\"- {food}\")\n",
        "\n",
        "print(\"\\nMy friend's favorite foods are:\")\n",
        "for food in friend_foods:\n",
        "    print(f\"- {food}\")"
      ],
      "metadata": {
        "colab": {
          "base_uri": "https://localhost:8080/"
        },
        "id": "lO61rER624vX",
        "outputId": "ef2f4266-5650-4e93-a96d-401faebded90"
      },
      "execution_count": 14,
      "outputs": [
        {
          "output_type": "stream",
          "name": "stdout",
          "text": [
            "My favorite foods are:\n",
            "- pizza\n",
            "- nachos\n",
            "- cake\n",
            "- cannoli\n",
            "\n",
            "My friend's favorite foods are:\n",
            "- pizza\n",
            "- nachos\n",
            "- cake\n",
            "- ice cream\n"
          ]
        }
      ]
    },
    {
      "cell_type": "code",
      "source": [
        "#TIY 4-13\n",
        "menu_items = (\n",
        "    'chicken fingers', 'tacos', 'chicken wings',\n",
        "    'cheese burger', 'penne',\n",
        "    )\n",
        "\n",
        "print(\"You can choose from the following menu items:\")\n",
        "for item in menu_items:\n",
        "    print(f\"- {item}\")\n",
        "\n",
        "menu_items = (\n",
        "    'steak', 'salmon', 'chicken wings',\n",
        "    'cheese burger', 'penne',\n",
        "    )\n",
        "\n",
        "print(\"\\nOur menu has been updated.\")\n",
        "print(\"You can now choose from the following items:\")\n",
        "for item in menu_items:\n",
        "    print(f\"- {item}\")"
      ],
      "metadata": {
        "colab": {
          "base_uri": "https://localhost:8080/"
        },
        "id": "UNAqCtpp3Wxh",
        "outputId": "c46d92f7-60ef-41c2-9849-0e5de078f387"
      },
      "execution_count": 16,
      "outputs": [
        {
          "output_type": "stream",
          "name": "stdout",
          "text": [
            "You can choose from the following menu items:\n",
            "- chicken fingers\n",
            "- tacos\n",
            "- chicken wings\n",
            "- cheese burger\n",
            "- penne\n",
            "\n",
            "Our menu has been updated.\n",
            "You can now choose from the following items:\n",
            "- steak\n",
            "- salmon\n",
            "- chicken wings\n",
            "- cheese burger\n",
            "- penne\n"
          ]
        }
      ]
    },
    {
      "cell_type": "code",
      "source": [
        "#TIY 4-14\n",
        "# (PEP 8)"
      ],
      "metadata": {
        "id": "LGvN-CDq46zp"
      },
      "execution_count": null,
      "outputs": []
    },
    {
      "cell_type": "code",
      "source": [
        "#TIY 4-15\n",
        "# (I think all my code follows PEP 8 guidelines already.)"
      ],
      "metadata": {
        "id": "I3542mwm5iax"
      },
      "execution_count": null,
      "outputs": []
    },
    {
      "cell_type": "code",
      "source": [
        "def factorial(n):\n",
        "  for value in range(1, n):\n",
        "\n",
        "    print"
      ],
      "metadata": {
        "id": "XfKUQlyu7seW"
      },
      "execution_count": 19,
      "outputs": []
    },
    {
      "cell_type": "code",
      "source": [
        "def factorial(n):\n",
        "  my_list = []\n",
        "  for value in (range(1, n+1)):\n",
        "    my_list.append(value)\n",
        "  product = 1\n",
        "  for x in my_list:\n",
        "    product *= x\n",
        "  return product"
      ],
      "metadata": {
        "id": "CJLXTVq37tV-"
      },
      "execution_count": 20,
      "outputs": []
    },
    {
      "cell_type": "code",
      "source": [
        "def special_factorial(n):\n",
        "  my_list = []\n",
        "  for value in (range(1, n+1)):\n",
        "    my_list.append(value)\n",
        "  product = 1\n",
        "  if n >=4:\n",
        "    my_list.remove(4)\n",
        "  if n >=13:\n",
        "    my_list.remove(13)\n",
        "  if n >=22:\n",
        "    my_list.remove(22)\n",
        "  for x in my_list:\n",
        "    product *= x\n",
        "  return product"
      ],
      "metadata": {
        "id": "AuMV6wbZ7wAK"
      },
      "execution_count": 21,
      "outputs": []
    },
    {
      "cell_type": "code",
      "source": [
        "print(special_factorial(5))\n",
        "print(special_factorial(10))\n",
        "print(special_factorial(20))\n",
        "print(special_factorial(50))"
      ],
      "metadata": {
        "colab": {
          "base_uri": "https://localhost:8080/"
        },
        "id": "3lL76cPX7zXf",
        "outputId": "cce705e4-424b-4aff-a631-215043572b97"
      },
      "execution_count": 22,
      "outputs": [
        {
          "output_type": "stream",
          "name": "stdout",
          "text": [
            "30\n",
            "907200\n",
            "46786577080320000\n",
            "26585745805693512275885146998308364374455980392448000000000000\n"
          ]
        }
      ]
    }
  ]
}
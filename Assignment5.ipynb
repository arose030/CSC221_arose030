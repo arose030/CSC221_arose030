{
  "cells": [
    {
      "cell_type": "markdown",
      "metadata": {
        "id": "view-in-github",
        "colab_type": "text"
      },
      "source": [
        "<a href=\"https://colab.research.google.com/github/arose030/CSC221_arose030/blob/main/Assignment5.ipynb\" target=\"_parent\"><img src=\"https://colab.research.google.com/assets/colab-badge.svg\" alt=\"Open In Colab\"/></a>"
      ]
    },
    {
      "cell_type": "code",
      "execution_count": null,
      "metadata": {
        "colab": {
          "base_uri": "https://localhost:8080/"
        },
        "id": "_XXsV2_oe7qN",
        "outputId": "ab23d1f0-d4fa-430f-cb3f-a6267232368b"
      },
      "outputs": [
        {
          "name": "stdout",
          "output_type": "stream",
          "text": [
            "alice\n",
            "david\n",
            "caroline\n"
          ]
        }
      ],
      "source": [
        "magicians = ['alice', 'david', 'caroline']\n",
        "for magician in magicians:\n",
        "  print(magician)"
      ]
    },
    {
      "cell_type": "code",
      "execution_count": null,
      "metadata": {
        "colab": {
          "base_uri": "https://localhost:8080/"
        },
        "id": "FRJHZmntfuiG",
        "outputId": "2d6430a2-405e-4853-e23b-04cb72d02e18"
      },
      "outputs": [
        {
          "name": "stdout",
          "output_type": "stream",
          "text": [
            "Alice, that was a great trick!\n",
            "I cant wait for your next trick, Alice.\n",
            "\n",
            "David, that was a great trick!\n",
            "I cant wait for your next trick, David.\n",
            "\n",
            "Caroline, that was a great trick!\n",
            "I cant wait for your next trick, Caroline.\n",
            "\n",
            "Thank your, everyone. That was a great magic show\n"
          ]
        }
      ],
      "source": [
        "magicians = ['alice', 'david', 'caroline']\n",
        "for magician in magicians:\n",
        "  print(f\"{magician.title()}, that was a great trick!\")\n",
        "  print(f\"I cant wait for your next trick, {magician.title()}.\\n\")\n",
        "\n",
        "print(\"Thank your, everyone. That was a great magic show.\")"
      ]
    },
    {
      "cell_type": "markdown",
      "metadata": {
        "id": "5EnndfjfhD8S"
      },
      "source": [
        "4-1\n",
        "4-2"
      ]
    },
    {
      "cell_type": "code",
      "execution_count": null,
      "metadata": {
        "colab": {
          "base_uri": "https://localhost:8080/"
        },
        "id": "XcgYUC0qhAjI",
        "outputId": "c0aa2b64-3502-4bc9-9b81-34ca005dd19d"
      },
      "outputs": [
        {
          "name": "stdout",
          "output_type": "stream",
          "text": [
            "I love pepperoni pizza\n",
            "I love meatball pizza\n",
            "I love mushroom pizza\n",
            "I really love pizza!\n"
          ]
        }
      ],
      "source": [
        "tops = [\"pepperoni\", \"meatball\", \"mushroom\"]\n",
        "for top in tops:\n",
        "  print('I love', top, 'pizza.')\n",
        "print('I really love pizza!')"
      ]
    },
    {
      "cell_type": "code",
      "execution_count": null,
      "metadata": {
        "colab": {
          "base_uri": "https://localhost:8080/"
        },
        "id": "zwJiWYfOiJbq",
        "outputId": "4a025e5b-ed95-4e0b-cf49-6dadcdeb86e6"
      },
      "outputs": [
        {
          "name": "stdout",
          "output_type": "stream",
          "text": [
            "A dog would make a great pet.\n",
            "A cat would make a great pet.\n",
            "A duck would make a great pet.\n",
            "All of these animals are very fluffy and like to be pet\n"
          ]
        }
      ],
      "source": [
        "pets = ['dog', 'cat', 'duck']\n",
        "for pet in pets:\n",
        "  print('A', pet, 'would make a great pet.')\n",
        "print('All of these animals are very fluffy and like to be pet')"
      ]
    },
    {
      "cell_type": "code",
      "execution_count": null,
      "metadata": {
        "colab": {
          "base_uri": "https://localhost:8080/"
        },
        "id": "mIRxYgRJi2eL",
        "outputId": "f7e470ab-267f-4760-9c28-b70e15233963"
      },
      "outputs": [
        {
          "name": "stdout",
          "output_type": "stream",
          "text": [
            "1\n",
            "2\n",
            "3\n",
            "4\n",
            "5\n"
          ]
        }
      ],
      "source": [
        "for value in range(1, 6):\n",
        "  print(value)"
      ]
    },
    {
      "cell_type": "code",
      "execution_count": null,
      "metadata": {
        "colab": {
          "base_uri": "https://localhost:8080/"
        },
        "id": "JNiYU_i9jGlJ",
        "outputId": "f4b603e3-f6bc-4947-a7d2-a7964daed9b6"
      },
      "outputs": [
        {
          "name": "stdout",
          "output_type": "stream",
          "text": [
            "[1, 2, 3, 4, 5]\n"
          ]
        }
      ],
      "source": [
        "numbers = list(range(1, 6))\n",
        "print(numbers)"
      ]
    },
    {
      "cell_type": "code",
      "execution_count": null,
      "metadata": {
        "colab": {
          "base_uri": "https://localhost:8080/"
        },
        "id": "ouADAcXJjQhj",
        "outputId": "e26537d2-0fdd-4540-b3a2-f5c3685dfdc8"
      },
      "outputs": [
        {
          "name": "stdout",
          "output_type": "stream",
          "text": [
            "[2, 4, 6, 8, 10]\n"
          ]
        }
      ],
      "source": [
        "even_numbers = list(range(2, 11, 2))\n",
        "print(even_numbers)"
      ]
    },
    {
      "cell_type": "code",
      "execution_count": null,
      "metadata": {
        "colab": {
          "base_uri": "https://localhost:8080/"
        },
        "id": "LBo7bw4QjZtV",
        "outputId": "9700c186-e55c-44a4-868c-9bab77087989"
      },
      "outputs": [
        {
          "name": "stdout",
          "output_type": "stream",
          "text": [
            "[1, 4, 9, 16, 25, 36, 49, 64, 81, 100]\n"
          ]
        }
      ],
      "source": [
        "squares = []\n",
        "for value in range(1, 11):\n",
        "  squares.append(value**2)\n",
        "print(squares)"
      ]
    },
    {
      "cell_type": "code",
      "execution_count": null,
      "metadata": {
        "colab": {
          "base_uri": "https://localhost:8080/"
        },
        "id": "Jl66KwU-lvof",
        "outputId": "5acfd293-615a-4d4d-f94c-58ea9895e18a"
      },
      "outputs": [
        {
          "data": {
            "text/plain": [
              "45"
            ]
          },
          "execution_count": 34,
          "metadata": {},
          "output_type": "execute_result"
        }
      ],
      "source": [
        "digits = [1, 2, 3, 4, 5, 6, 7, 8, 9, 0]\n",
        "min(digits)\n",
        "max(digits)\n",
        "sum(digits)"
      ]
    },
    {
      "cell_type": "code",
      "execution_count": null,
      "metadata": {
        "colab": {
          "base_uri": "https://localhost:8080/"
        },
        "id": "uIOQ0q1-mDlz",
        "outputId": "46ab22a5-9302-45a2-ef4a-d816a6e9835d"
      },
      "outputs": [
        {
          "name": "stdout",
          "output_type": "stream",
          "text": [
            "[1, 4, 9, 16, 25, 36, 49, 64, 81, 100]\n"
          ]
        }
      ],
      "source": [
        "squares = [value**2 for value in range(1,11)]\n",
        "print(squares)"
      ]
    },
    {
      "cell_type": "markdown",
      "metadata": {
        "id": "CAp7exwTmSdx"
      },
      "source": [
        "4-3\n",
        "4-4 said notebook limit was too small didnt know how to fix\n",
        "4-5\n",
        "4-6\n",
        "4-7\n",
        "4-9\n",
        "\n",
        "```\n",
        "# This is formatted as code\n",
        "```\n",
        "\n"
      ]
    },
    {
      "cell_type": "code",
      "execution_count": null,
      "metadata": {
        "colab": {
          "base_uri": "https://localhost:8080/"
        },
        "id": "B2DfsS3FmTGC",
        "outputId": "b4cd1510-3798-4d8b-ec16-716076bb558a"
      },
      "outputs": [
        {
          "name": "stdout",
          "output_type": "stream",
          "text": [
            "[1, 2, 3, 4, 5, 6, 7, 8, 9, 10, 11, 12, 13, 14, 15, 16, 17, 18, 19, 20]\n"
          ]
        }
      ],
      "source": [
        "digs = []\n",
        "for value in range(1,21):\n",
        "  digs.append(value)\n",
        "print(digs)"
      ]
    },
    {
      "cell_type": "code",
      "execution_count": null,
      "metadata": {
        "colab": {
          "base_uri": "https://localhost:8080/"
        },
        "id": "HE_-VHRnm4uo",
        "outputId": "b214fcc6-307a-481a-b749-ff95a1ebbf40"
      },
      "outputs": [
        {
          "name": "stderr",
          "output_type": "stream",
          "text": [
            "IOPub data rate exceeded.\n",
            "The notebook server will temporarily stop sending output\n",
            "to the client in order to avoid crashing it.\n",
            "To change this limit, set the config variable\n",
            "`--NotebookApp.iopub_data_rate_limit`.\n",
            "\n",
            "Current values:\n",
            "NotebookApp.iopub_data_rate_limit=1000000.0 (bytes/sec)\n",
            "NotebookApp.rate_limit_window=3.0 (secs)\n",
            "\n"
          ]
        }
      ],
      "source": [
        "digs = []\n",
        "for value in range(1,1000001):\n",
        "  digs.append(value)\n",
        "print(digs)"
      ]
    },
    {
      "cell_type": "code",
      "execution_count": null,
      "metadata": {
        "colab": {
          "base_uri": "https://localhost:8080/"
        },
        "id": "kk4P_OHonW6R",
        "outputId": "5723bc65-b018-4d72-856e-ea90c4e4952e"
      },
      "outputs": [
        {
          "data": {
            "text/plain": [
              "500000500000"
            ]
          },
          "execution_count": 44,
          "metadata": {},
          "output_type": "execute_result"
        }
      ],
      "source": [
        "digs = []\n",
        "for value in range(1,1000001):\n",
        "  digs.append(value)\n",
        "min(digs)\n",
        "max(digs)\n",
        "sum(digs)"
      ]
    },
    {
      "cell_type": "code",
      "execution_count": null,
      "metadata": {
        "colab": {
          "base_uri": "https://localhost:8080/"
        },
        "id": "DBsXjZjioJ2M",
        "outputId": "8f6eb9a1-0dce-4acf-8909-2453a87b1407"
      },
      "outputs": [
        {
          "name": "stdout",
          "output_type": "stream",
          "text": [
            "[1, 3, 5, 7, 9, 11, 13, 15, 17, 19]\n"
          ]
        }
      ],
      "source": [
        "odds = list(range(1, 21, 2))\n",
        "print(odds)"
      ]
    },
    {
      "cell_type": "code",
      "execution_count": null,
      "metadata": {
        "colab": {
          "base_uri": "https://localhost:8080/"
        },
        "id": "ScXwG-79ood1",
        "outputId": "81630414-5794-4b5f-9413-976ac8ae14b0"
      },
      "outputs": [
        {
          "name": "stdout",
          "output_type": "stream",
          "text": [
            "[3, 6, 9, 12, 15, 18, 21, 24, 27, 30]\n"
          ]
        }
      ],
      "source": [
        "odds = list(range(3, 31, 3))\n",
        "print(odds)"
      ]
    },
    {
      "cell_type": "code",
      "execution_count": null,
      "metadata": {
        "colab": {
          "base_uri": "https://localhost:8080/"
        },
        "id": "FTjmebaDo0Fx",
        "outputId": "75c5abb9-3b51-4d02-c2ea-0d44800f17d0"
      },
      "outputs": [
        {
          "name": "stdout",
          "output_type": "stream",
          "text": [
            "[1, 8, 27, 64, 125, 216, 343, 512, 729, 1000]\n"
          ]
        }
      ],
      "source": [
        "num = [value**3 for value in range(1, 11)]\n",
        "print(num)"
      ]
    },
    {
      "cell_type": "code",
      "execution_count": null,
      "metadata": {
        "colab": {
          "base_uri": "https://localhost:8080/"
        },
        "id": "3ed05S_BpFxX",
        "outputId": "713ccf95-cc26-47e1-a037-b6950fde6e09"
      },
      "outputs": [
        {
          "name": "stdout",
          "output_type": "stream",
          "text": [
            "['michael', 'florence', 'eli']\n"
          ]
        }
      ],
      "source": [
        "players = ['charles', 'martina', 'michael', 'florence', 'eli']\n",
        "print(players[-3:])"
      ]
    },
    {
      "cell_type": "code",
      "execution_count": null,
      "metadata": {
        "colab": {
          "base_uri": "https://localhost:8080/"
        },
        "id": "xUdyMIjrp7bY",
        "outputId": "95ed12a8-6feb-4125-f791-c7e7bb90c496"
      },
      "outputs": [
        {
          "name": "stdout",
          "output_type": "stream",
          "text": [
            "here are the first three players on my team:\n",
            "Charles\n",
            "Martina\n",
            "Michael\n"
          ]
        }
      ],
      "source": [
        "print('here are the first three players on my team:')\n",
        "for player in players[:3]:\n",
        "  print(player.title())"
      ]
    },
    {
      "cell_type": "code",
      "execution_count": null,
      "metadata": {
        "colab": {
          "base_uri": "https://localhost:8080/"
        },
        "id": "xPhorYGMqO8I",
        "outputId": "175c1376-65f3-4db4-c8c6-35a169b047e6"
      },
      "outputs": [
        {
          "name": "stdout",
          "output_type": "stream",
          "text": [
            "My favorite foods are:\n",
            "['pizza', 'falafel', 'carrot cake', 'cannoli']\n",
            "\n",
            "My frien's favorite foods are:\n",
            "['pizza', 'falafel', 'carrot cake', 'ice cream']\n"
          ]
        }
      ],
      "source": [
        "my_foods = ['pizza', 'falafel', 'carrot cake']\n",
        "friend_foods = my_foods[:]\n",
        "\n",
        "my_foods.append('cannoli')\n",
        "friend_foods.append('ice cream')\n",
        "\n",
        "print('My favorite foods are:')\n",
        "print(my_foods)\n",
        "\n",
        "print(\"\\nMy frien's favorite foods are:\")\n",
        "print(friend_foods)"
      ]
    },
    {
      "cell_type": "markdown",
      "metadata": {
        "id": "dFyBT9cErH9E"
      },
      "source": [
        "4-10\n",
        "4-11"
      ]
    },
    {
      "cell_type": "code",
      "execution_count": null,
      "metadata": {
        "colab": {
          "base_uri": "https://localhost:8080/"
        },
        "id": "f3hIfWv7qrs8",
        "outputId": "cc9aa2ea-ab79-4f4f-83a2-25bb75eda7ae"
      },
      "outputs": [
        {
          "name": "stdout",
          "output_type": "stream",
          "text": [
            "The first three items in the list are:\n",
            "['charles', 'martina', 'michael']\n",
            "The middle three items in the list are:\n",
            "['martina', 'michael', 'florence']\n",
            "The last three items in the list are:\n",
            "['michael', 'florence', 'eli']\n"
          ]
        }
      ],
      "source": [
        "players = ['charles', 'martina', 'michael', 'florence', 'eli']\n",
        "print('The first three items in the list are:')\n",
        "print(players[:3])\n",
        "print('The middle three items in the list are:')\n",
        "print(players[1:4])\n",
        "print('The last three items in the list are:')\n",
        "print(players[2:])"
      ]
    },
    {
      "cell_type": "code",
      "execution_count": null,
      "metadata": {
        "colab": {
          "base_uri": "https://localhost:8080/"
        },
        "id": "8VvNOlfwroEF",
        "outputId": "e28c1116-7c09-4740-eb94-efc85332e4a5"
      },
      "outputs": [
        {
          "name": "stdout",
          "output_type": "stream",
          "text": [
            "My favorite pizzas are pepperoni\n",
            "My favorite pizzas are meatball\n",
            "My favorite pizzas are mushroom\n",
            "My favorite pizzas are ranch\n",
            "My friends favorite pizzas are pepperoni\n",
            "My friends favorite pizzas are meatball\n",
            "My friends favorite pizzas are mushroom\n",
            "My friends favorite pizzas are pineapple\n"
          ]
        }
      ],
      "source": [
        "tops = [\"pepperoni\", \"meatball\", \"mushroom\"]\n",
        "friend_pizzas = tops[:]\n",
        "tops.append('ranch')\n",
        "friend_pizzas.append('pineapple')\n",
        "for top in tops:\n",
        "  print('My favorite pizzas are', top)\n",
        "for top in friend_pizzas:\n",
        "  print('My friends favorite pizzas are' , top)"
      ]
    },
    {
      "cell_type": "code",
      "execution_count": null,
      "metadata": {
        "colab": {
          "base_uri": "https://localhost:8080/"
        },
        "id": "jdtKz2mftWrx",
        "outputId": "26624ed4-f121-4f1b-d1f6-cd9e9f3f556f"
      },
      "outputs": [
        {
          "name": "stdout",
          "output_type": "stream",
          "text": [
            "200\n",
            "50\n"
          ]
        }
      ],
      "source": [
        "dimensions = (200, 50)\n",
        "print(dimensions[0])\n",
        "print(dimensions[1])"
      ]
    },
    {
      "cell_type": "code",
      "execution_count": null,
      "metadata": {
        "colab": {
          "base_uri": "https://localhost:8080/"
        },
        "id": "XMuQMLAotlSO",
        "outputId": "b16a5ef3-3691-454c-df36-80871f3876d8"
      },
      "outputs": [
        {
          "name": "stdout",
          "output_type": "stream",
          "text": [
            "200\n",
            "50\n"
          ]
        }
      ],
      "source": [
        "dimensions = (200, 50)\n",
        "for dimension in dimensions:\n",
        "  print(dimension)"
      ]
    },
    {
      "cell_type": "code",
      "execution_count": null,
      "metadata": {
        "colab": {
          "base_uri": "https://localhost:8080/"
        },
        "id": "ua0PTcEYt6qR",
        "outputId": "f3cee429-40fb-48be-8692-689b3833b4f7"
      },
      "outputs": [
        {
          "name": "stdout",
          "output_type": "stream",
          "text": [
            "Original dimensions:\n",
            "200\n",
            "50\n",
            "\n",
            "Modified dimensions:\n",
            "400\n",
            "100\n"
          ]
        }
      ],
      "source": [
        "dimensions = (200, 50)\n",
        "print(\"Original dimensions:\")\n",
        "for dimension in dimensions:\n",
        "  print(dimension)\n",
        "\n",
        "dimensions = (400, 100)\n",
        "print(\"\\nModified dimensions:\")\n",
        "for dimension in dimensions:\n",
        "  print(dimension)"
      ]
    },
    {
      "cell_type": "markdown",
      "metadata": {
        "id": "9Y7QbIQBuZjL"
      },
      "source": [
        "4-13"
      ]
    },
    {
      "cell_type": "code",
      "execution_count": null,
      "metadata": {
        "colab": {
          "base_uri": "https://localhost:8080/"
        },
        "id": "OTHIMEEAuY1h",
        "outputId": "28b7954c-46a0-4c96-8fbf-8c548f786f6b"
      },
      "outputs": [
        {
          "name": "stdout",
          "output_type": "stream",
          "text": [
            "pizza\n",
            "apple\n",
            "cheese\n",
            "chips\n",
            "cake\n"
          ]
        }
      ],
      "source": [
        "foods = ('pizza', 'apple', 'cheese', 'chips', 'cake')\n",
        "for food in foods:\n",
        "  print(food)"
      ]
    },
    {
      "cell_type": "code",
      "execution_count": null,
      "metadata": {
        "colab": {
          "base_uri": "https://localhost:8080/",
          "height": 232
        },
        "id": "YInh17DEuzjl",
        "outputId": "10c20721-4bac-4596-ed76-257db708ab3e"
      },
      "outputs": [
        {
          "ename": "TypeError",
          "evalue": "ignored",
          "output_type": "error",
          "traceback": [
            "\u001b[0;31m---------------------------------------------------------------------------\u001b[0m",
            "\u001b[0;31mTypeError\u001b[0m                                 Traceback (most recent call last)",
            "\u001b[0;32m<ipython-input-84-9fbdef2d4ae9>\u001b[0m in \u001b[0;36m<cell line: 2>\u001b[0;34m()\u001b[0m\n\u001b[1;32m      1\u001b[0m \u001b[0mfoods\u001b[0m \u001b[0;34m=\u001b[0m \u001b[0;34m(\u001b[0m\u001b[0;34m'pizza'\u001b[0m\u001b[0;34m,\u001b[0m \u001b[0;34m'apple'\u001b[0m\u001b[0;34m,\u001b[0m \u001b[0;34m'cheese'\u001b[0m\u001b[0;34m,\u001b[0m \u001b[0;34m'chips'\u001b[0m\u001b[0;34m,\u001b[0m \u001b[0;34m'cake'\u001b[0m\u001b[0;34m)\u001b[0m\u001b[0;34m\u001b[0m\u001b[0;34m\u001b[0m\u001b[0m\n\u001b[0;32m----> 2\u001b[0;31m \u001b[0mfoods\u001b[0m\u001b[0;34m[\u001b[0m\u001b[0;36m0\u001b[0m\u001b[0;34m]\u001b[0m \u001b[0;34m=\u001b[0m \u001b[0;34m(\u001b[0m\u001b[0;34m'pie'\u001b[0m\u001b[0;34m)\u001b[0m\u001b[0;34m\u001b[0m\u001b[0;34m\u001b[0m\u001b[0m\n\u001b[0m\u001b[1;32m      3\u001b[0m \u001b[0;32mfor\u001b[0m \u001b[0mfood\u001b[0m \u001b[0;32min\u001b[0m \u001b[0mfoods\u001b[0m\u001b[0;34m:\u001b[0m\u001b[0;34m\u001b[0m\u001b[0;34m\u001b[0m\u001b[0m\n\u001b[1;32m      4\u001b[0m   \u001b[0mprint\u001b[0m\u001b[0;34m(\u001b[0m\u001b[0mfood\u001b[0m\u001b[0;34m)\u001b[0m\u001b[0;34m\u001b[0m\u001b[0;34m\u001b[0m\u001b[0m\n",
            "\u001b[0;31mTypeError\u001b[0m: 'tuple' object does not support item assignment"
          ]
        }
      ],
      "source": [
        "foods = ('pizza', 'apple', 'cheese', 'chips', 'cake')\n",
        "foods[0] = ('pie')\n",
        "for food in foods:\n",
        "  print(food)"
      ]
    },
    {
      "cell_type": "code",
      "execution_count": null,
      "metadata": {
        "colab": {
          "base_uri": "https://localhost:8080/"
        },
        "id": "46cIHujkvJQj",
        "outputId": "2c161f5c-02b3-4165-923f-808de97a3548"
      },
      "outputs": [
        {
          "name": "stdout",
          "output_type": "stream",
          "text": [
            "Original Menu:\n",
            "pizza\n",
            "apple\n",
            "cheese\n",
            "chips\n",
            "cake\n",
            "New Menu:\n",
            "pizza\n",
            "apple\n",
            "cheese\n",
            "fries\n",
            "hamburger\n"
          ]
        }
      ],
      "source": [
        "foods = ('pizza', 'apple', 'cheese', 'chips', 'cake')\n",
        "print('Original Menu:')\n",
        "for food in foods:\n",
        "  print(food)\n",
        "foods = ('pizza', 'apple', 'cheese', 'fries', 'hamburger')\n",
        "print('New Menu:')\n",
        "for food in foods:\n",
        "  print(food)"
      ]
    },
    {
      "cell_type": "code",
      "execution_count": null,
      "metadata": {
        "id": "tjbDHUrMvrOA"
      },
      "outputs": [],
      "source": [
        "def factorial(n):\n",
        "  for value in range(1, n):\n",
        "\n",
        "    print"
      ]
    },
    {
      "cell_type": "code",
      "execution_count": null,
      "metadata": {
        "id": "_DZ0uo6JxbTl"
      },
      "outputs": [],
      "source": [
        "def factorial(n):\n",
        "  my_list = []\n",
        "  for value in (range(1, n+1)):\n",
        "    my_list.append(value)\n",
        "  product = 1\n",
        "  for x in my_list:\n",
        "    product *= x\n",
        "  return product"
      ]
    },
    {
      "cell_type": "code",
      "execution_count": null,
      "metadata": {
        "id": "ARiy_4Z63vT-"
      },
      "outputs": [],
      "source": [
        "def special_factorial(n):\n",
        "  my_list = []\n",
        "  for value in (range(1, n+1)):\n",
        "    my_list.append(value)\n",
        "  product = 1\n",
        "  if n >=4:\n",
        "    my_list.remove(4)\n",
        "  if n >=13:\n",
        "    my_list.remove(13)\n",
        "  if n >=22:\n",
        "    my_list.remove(22)\n",
        "  for x in my_list:\n",
        "    product *= x\n",
        "  return product"
      ]
    },
    {
      "cell_type": "code",
      "execution_count": null,
      "metadata": {
        "colab": {
          "base_uri": "https://localhost:8080/"
        },
        "id": "de_b5ckF4d7d",
        "outputId": "04cf0757-38e5-45c5-d4e7-72e99f7eafd9"
      },
      "outputs": [
        {
          "name": "stdout",
          "output_type": "stream",
          "text": [
            "30\n",
            "907200\n"
          ]
        }
      ],
      "source": [
        "print(special_factorial(5))\n",
        "print(special_factorial(10))\n"
      ]
    }
  ],
  "metadata": {
    "colab": {
      "provenance": [],
      "include_colab_link": true
    },
    "kernelspec": {
      "display_name": "Python 3",
      "name": "python3"
    },
    "language_info": {
      "name": "python"
    }
  },
  "nbformat": 4,
  "nbformat_minor": 0
}